{
 "cells": [
  {
   "cell_type": "code",
   "execution_count": 1,
   "metadata": {},
   "outputs": [
    {
     "name": "stdout",
     "output_type": "stream",
     "text": [
      "WARNING:tensorflow:From <ipython-input-1-79ea21ee4f7a>:6: read_data_sets (from tensorflow.contrib.learn.python.learn.datasets.mnist) is deprecated and will be removed in a future version.\n",
      "Instructions for updating:\n",
      "Please use alternatives such as official/mnist/dataset.py from tensorflow/models.\n",
      "WARNING:tensorflow:From /home/jhm9507/miniconda3/envs/jhm/lib/python3.6/site-packages/tensorflow/contrib/learn/python/learn/datasets/mnist.py:260: maybe_download (from tensorflow.contrib.learn.python.learn.datasets.base) is deprecated and will be removed in a future version.\n",
      "Instructions for updating:\n",
      "Please write your own downloading logic.\n",
      "WARNING:tensorflow:From /home/jhm9507/miniconda3/envs/jhm/lib/python3.6/site-packages/tensorflow/contrib/learn/python/learn/datasets/mnist.py:262: extract_images (from tensorflow.contrib.learn.python.learn.datasets.mnist) is deprecated and will be removed in a future version.\n",
      "Instructions for updating:\n",
      "Please use tf.data to implement this functionality.\n",
      "Extracting ./mnist/data/train-images-idx3-ubyte.gz\n",
      "WARNING:tensorflow:From /home/jhm9507/miniconda3/envs/jhm/lib/python3.6/site-packages/tensorflow/contrib/learn/python/learn/datasets/mnist.py:267: extract_labels (from tensorflow.contrib.learn.python.learn.datasets.mnist) is deprecated and will be removed in a future version.\n",
      "Instructions for updating:\n",
      "Please use tf.data to implement this functionality.\n",
      "Extracting ./mnist/data/train-labels-idx1-ubyte.gz\n",
      "WARNING:tensorflow:From /home/jhm9507/miniconda3/envs/jhm/lib/python3.6/site-packages/tensorflow/contrib/learn/python/learn/datasets/mnist.py:110: dense_to_one_hot (from tensorflow.contrib.learn.python.learn.datasets.mnist) is deprecated and will be removed in a future version.\n",
      "Instructions for updating:\n",
      "Please use tf.one_hot on tensors.\n",
      "Extracting ./mnist/data/t10k-images-idx3-ubyte.gz\n",
      "Extracting ./mnist/data/t10k-labels-idx1-ubyte.gz\n",
      "WARNING:tensorflow:From /home/jhm9507/miniconda3/envs/jhm/lib/python3.6/site-packages/tensorflow/contrib/learn/python/learn/datasets/mnist.py:290: DataSet.__init__ (from tensorflow.contrib.learn.python.learn.datasets.mnist) is deprecated and will be removed in a future version.\n",
      "Instructions for updating:\n",
      "Please use alternatives such as official/mnist/dataset.py from tensorflow/models.\n"
     ]
    }
   ],
   "source": [
    "import tensorflow as tf\n",
    "import numpy as np\n",
    "import sys\n",
    "import os\n",
    "from tensorflow.examples.tutorials.mnist import input_data\n",
    "mnist = input_data.read_data_sets(\"./mnist/data/\", one_hot=True)\n"
   ]
  },
  {
   "cell_type": "code",
   "execution_count": 79,
   "metadata": {},
   "outputs": [],
   "source": [
    "learning_rate = 0.0001\n",
    "epochs = 15\n",
    "batch_size = 16\n",
    "input_size = 28\n",
    "max_length = 28\n",
    "hidden_units = 128\n",
    "n_class = 10\n",
    "dropout = 0.8\n",
    "layers = 1"
   ]
  },
  {
   "cell_type": "code",
   "execution_count": 83,
   "metadata": {},
   "outputs": [],
   "source": [
    "class LSTM:\n",
    "    def __init__(self, input_size, layers, hidden_units, max_length, batch_size, learning_rate, dropout):\n",
    "        with tf.variable_scope(\"BiLSTM\", reuse=tf.AUTO_REUSE):\n",
    "            self.input_X = tf.placeholder(dtype=tf.float32, shape=[None, None, input_size], name=\"input_X\")\n",
    "            self.input_y = tf.placeholder(dtype=tf.float32, shape=[None,n_class], name=\"input_y\")\n",
    "            self.dropout_keep_prob = tf.placeholder(dtype=tf.float32, shape=None, name=\"dropout_keep_prob\")\n",
    "            self.output = self.bilstm(self.input_X, layers, hidden_units, dropout)\n",
    "            self.loss = tf.reduce_mean(tf.nn.softmax_cross_entropy_with_logits_v2(labels=self.input_y, logits=self.output), name=\"loss\")\n",
    "            self.op_train = tf.train.AdamOptimizer(learning_rate).minimize(self.loss)\n",
    "            self.pred = tf.equal(tf.argmax(self.output,1), tf.argmax(self.input_y,1))\n",
    "            self.acc = (tf.reduce_mean(tf.cast(self.pred, tf.float32)))*100\n",
    "    \n",
    "    def bilstm(self, X, layers, hidden_units, dropout):\n",
    "        \n",
    "        fw_cell_stack = []\n",
    "        for i in range(layers):\n",
    "            fw_cell =  tf.nn.rnn_cell.LSTMCell(hidden_units)\n",
    "            fw_cell = tf.nn.rnn_cell.DropoutWrapper(fw_cell, output_keep_prob=dropout)\n",
    "            fw_cell_stack.append(fw_cell)\n",
    "        fw_lstm_cell = tf.nn.rnn_cell.MultiRNNCell(fw_cell_stack)\n",
    "        \n",
    "        bw_cell_stack = []\n",
    "        for i in range(layers):\n",
    "            bw_cell =  tf.nn.rnn_cell.LSTMCell(hidden_units)\n",
    "            bw_cell = tf.nn.rnn_cell.DropoutWrapper(bw_cell, output_keep_prob=dropout)\n",
    "            bw_cell_stack.append(bw_cell)\n",
    "        bw_lstm_cell = tf.nn.rnn_cell.MultiRNNCell(bw_cell_stack)\n",
    "        \n",
    "        outputs,_ = tf.nn.bidirectional_dynamic_rnn(fw_lstm_cell, bw_lstm_cell, X, dtype=tf.float32)\n",
    "        \n",
    "        fw_output = tf.transpose(outputs[0], perm=[1,0,2])\n",
    "        fw_output = fw_output[-1]\n",
    "        bw_output = tf.transpose(outputs[1], perm=[1,0,2])\n",
    "        bw_output = bw_output[-1]\n",
    "        \n",
    "        W = tf.get_variable(\"W_output\",shape=[2*hidden_units,n_class], initializer=tf.random_normal_initializer(), dtype=tf.float32)\n",
    "        b = tf.get_variable(\"b_output\",shape=[n_class], initializer=tf.zeros_initializer(), dtype=tf.float32)\n",
    "        output = tf.concat([fw_output,bw_output],axis=1)\n",
    "        output = tf.add(tf.matmul(output,W), b, name=\"output\")\n",
    "        return output"
   ]
  },
  {
   "cell_type": "code",
   "execution_count": 84,
   "metadata": {},
   "outputs": [
    {
     "name": "stdout",
     "output_type": "stream",
     "text": [
      "Session started\n",
      "Model was initialized\n",
      "epochs: 1/15, iters: 100, loss: 1.7098276615142822, acc: 50.0\n",
      "epochs: 1/15, iters: 200, loss: 1.5229506492614746, acc: 43.75\n",
      "epochs: 1/15, iters: 300, loss: 1.1193931102752686, acc: 75.0\n",
      "epochs: 1/15, iters: 400, loss: 1.314941167831421, acc: 50.0\n",
      "epochs: 1/15, iters: 500, loss: 0.8544663190841675, acc: 75.0\n",
      "epochs: 1/15, iters: 600, loss: 1.2847356796264648, acc: 50.0\n",
      "epochs: 1/15, iters: 700, loss: 1.0381855964660645, acc: 62.5\n",
      "epochs: 1/15, iters: 800, loss: 0.9736403226852417, acc: 68.75\n",
      "epochs: 1/15, iters: 900, loss: 0.5339627265930176, acc: 81.25\n",
      "epochs: 1/15, iters: 1000, loss: 0.7108867168426514, acc: 81.25\n",
      "epochs: 1/15, iters: 1100, loss: 0.40899211168289185, acc: 68.75\n",
      "epochs: 1/15, iters: 1200, loss: 0.5128942728042603, acc: 81.25\n",
      "epochs: 1/15, iters: 1300, loss: 0.703669011592865, acc: 75.0\n",
      "epochs: 1/15, iters: 1400, loss: 0.45489293336868286, acc: 75.0\n",
      "epochs: 1/15, iters: 1500, loss: 1.5824416875839233, acc: 62.5\n",
      "epochs: 1/15, iters: 1600, loss: 0.437247097492218, acc: 93.75\n",
      "epochs: 1/15, iters: 1700, loss: 0.6773481369018555, acc: 68.75\n",
      "epochs: 1/15, iters: 1800, loss: 0.5224791169166565, acc: 87.5\n",
      "epochs: 1/15, iters: 1900, loss: 0.5657261610031128, acc: 62.5\n",
      "epochs: 1/15, iters: 2000, loss: 0.5294975638389587, acc: 81.25\n",
      "epochs: 1/15, iters: 2100, loss: 0.4403333067893982, acc: 81.25\n",
      "epochs: 1/15, iters: 2200, loss: 0.28017404675483704, acc: 87.5\n",
      "epochs: 1/15, iters: 2300, loss: 0.0843905583024025, acc: 100.0\n",
      "epochs: 1/15, iters: 2400, loss: 0.3170146942138672, acc: 93.75\n",
      "epochs: 1/15, iters: 2500, loss: 0.7286672592163086, acc: 75.0\n",
      "epochs: 1/15, iters: 2600, loss: 1.104048252105713, acc: 75.0\n",
      "epochs: 1/15, iters: 2700, loss: 1.2257022857666016, acc: 62.5\n",
      "epochs: 1/15, iters: 2800, loss: 0.5263181924819946, acc: 81.25\n",
      "epochs: 1/15, iters: 2900, loss: 0.3804955780506134, acc: 81.25\n",
      "epochs: 1/15, iters: 3000, loss: 0.7095354199409485, acc: 81.25\n",
      "epochs: 1/15, iters: 3100, loss: 0.3239606022834778, acc: 87.5\n",
      "epochs: 1/15, iters: 3200, loss: 0.1825336515903473, acc: 93.75\n",
      "epochs: 1/15, iters: 3300, loss: 0.3773358166217804, acc: 87.5\n",
      "epochs: 1/15, iters: 3400, loss: 0.41171377897262573, acc: 81.25\n",
      "epochs: 2/15, iters: 3500, loss: 1.1682862043380737, acc: 81.25\n",
      "epochs: 2/15, iters: 3600, loss: 0.307483434677124, acc: 87.5\n",
      "epochs: 2/15, iters: 3700, loss: 0.4075511693954468, acc: 87.5\n",
      "epochs: 2/15, iters: 3800, loss: 0.3627931773662567, acc: 93.75\n",
      "epochs: 2/15, iters: 3900, loss: 0.16035917401313782, acc: 93.75\n",
      "Model was saved\n"
     ]
    },
    {
     "ename": "SystemExit",
     "evalue": "1",
     "output_type": "error",
     "traceback": [
      "An exception has occurred, use %tb to see the full traceback.\n",
      "\u001b[0;31mSystemExit\u001b[0m\u001b[0;31m:\u001b[0m 1\n"
     ]
    },
    {
     "name": "stderr",
     "output_type": "stream",
     "text": [
      "/home/jhm9507/miniconda3/envs/jhm/lib/python3.6/site-packages/IPython/core/interactiveshell.py:3304: UserWarning: To exit: use 'exit', 'quit', or Ctrl-D.\n",
      "  warn(\"To exit: use 'exit', 'quit', or Ctrl-D.\", stacklevel=1)\n"
     ]
    }
   ],
   "source": [
    "with tf.Graph().as_default():\n",
    "    sess = tf.Session()\n",
    "    print(\"Session started\")\n",
    "    model = LSTM(input_size, layers, hidden_units, max_length, batch_size, learning_rate, dropout)\n",
    "    print(\"Model was initialized\")\n",
    "    save_path = \"./model/LSTM\"\n",
    "    n_batchs = int(mnist.train.num_examples / batch_size)\n",
    "    saver = tf.train.Saver()\n",
    "    \n",
    "    sess.run(tf.global_variables_initializer())\n",
    "    \n",
    "    def train_step(batch_X, batch_y, steps):\n",
    "        feed_dict = {\n",
    "            model.input_X: batch_X,\n",
    "            model.input_y: batch_y,\n",
    "            model.dropout_keep_prob: dropout\n",
    "        }\n",
    "        _, loss, acc = sess.run([model.op_train, model.loss, model.acc], feed_dict=feed_dict)\n",
    "        if steps % 100 == 0:\n",
    "            print(\"epochs: {}/{}, iters: {}, loss: {}, acc: {}\".format(int(steps/n_batchs)+1,epochs,steps, loss, acc))\n",
    "    steps = 0\n",
    "    for i in range(n_batchs*epochs):\n",
    "        batch_X, batch_y = mnist.train.next_batch(batch_size)\n",
    "        batch_X = batch_X.reshape((batch_size, max_length, input_size))\n",
    "        steps += 1\n",
    "        try:\n",
    "            train_step(batch_X, batch_y,steps)\n",
    "        except ValueError:\n",
    "            print(batch_X)\n",
    "            print(pre.preprocess(batch_X,max_length).shape)\n",
    "        except KeyboardInterrupt:\n",
    "            saver.save(sess,save_path)\n",
    "            print(\"Model was saved\")\n",
    "            sys.exit(1)\n",
    "    saver.save(sess,save_path)\n",
    "    print(\"Training finished\")\n",
    "    print(\"Model was saved\")"
   ]
  },
  {
   "cell_type": "code",
   "execution_count": 85,
   "metadata": {},
   "outputs": [
    {
     "name": "stdout",
     "output_type": "stream",
     "text": [
      "Session started\n",
      "INFO:tensorflow:Restoring parameters from ./model/LSTM\n",
      "Model was loaded\n",
      "정확도: 0.8985\n"
     ]
    }
   ],
   "source": [
    "with tf.Graph().as_default():\n",
    "    sess = tf.Session()\n",
    "    print(\"Session started\")\n",
    "    save_path = \"./model/LSTM\"\n",
    "    saver = tf.train.import_meta_graph(save_path+\".meta\")\n",
    "    saver.restore(sess, save_path)\n",
    "    graph = tf.get_default_graph()\n",
    "    print(\"Model was loaded\")\n",
    "    \n",
    "    input_X = graph.get_tensor_by_name(\"BiLSTM/input_X:0\")\n",
    "#     dropout = graph.get_tensor_by_name(\"BiLSTM/dropout_keep_prob:0\")\n",
    "    output = graph.get_tensor_by_name(\"BiLSTM/output:0\")\n",
    "    \n",
    "    test_batch_size = len(mnist.test.images)\n",
    "    test_xs = mnist.test.images.reshape(test_batch_size, max_length, input_size)\n",
    "    test_ys = mnist.test.labels\n",
    "    \n",
    "    Y = test_ys\n",
    "    is_correct = tf.equal(tf.argmax(output, 1), tf.argmax(Y, 1))\n",
    "    accuracy = tf.reduce_mean(tf.cast(is_correct, tf.float32))\n",
    "\n",
    "    print('정확도:', sess.run(accuracy, feed_dict={input_X: test_xs}))"
   ]
  },
  {
   "cell_type": "code",
   "execution_count": null,
   "metadata": {},
   "outputs": [],
   "source": []
  }
 ],
 "metadata": {
  "kernelspec": {
   "display_name": "Python 3",
   "language": "python",
   "name": "python3"
  },
  "language_info": {
   "codemirror_mode": {
    "name": "ipython",
    "version": 3
   },
   "file_extension": ".py",
   "mimetype": "text/x-python",
   "name": "python",
   "nbconvert_exporter": "python",
   "pygments_lexer": "ipython3",
   "version": "3.7.3"
  }
 },
 "nbformat": 4,
 "nbformat_minor": 2
}
