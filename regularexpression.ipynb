{
 "cells": [
  {
   "cell_type": "code",
   "execution_count": 1,
   "metadata": {},
   "outputs": [],
   "source": [
    "import re"
   ]
  },
  {
   "cell_type": "code",
   "execution_count": 91,
   "metadata": {},
   "outputs": [
    {
     "data": {
      "text/plain": [
       "['ab', 'ab']"
      ]
     },
     "execution_count": 91,
     "metadata": {},
     "output_type": "execute_result"
    }
   ],
   "source": [
    "m = re.compile(\"ab\")\n",
    "m.findall(\"abc123_abcdABCD\")"
   ]
  },
  {
   "cell_type": "code",
   "execution_count": 79,
   "metadata": {},
   "outputs": [
    {
     "data": {
      "text/plain": [
       "['a', 'b', 'a', 'b']"
      ]
     },
     "execution_count": 79,
     "metadata": {},
     "output_type": "execute_result"
    }
   ],
   "source": [
    "m = re.compile(\"[ab]\")\n",
    "m.findall(\"abc123_abcd\")"
   ]
  },
  {
   "cell_type": "code",
   "execution_count": 82,
   "metadata": {},
   "outputs": [
    {
     "data": {
      "text/plain": [
       "['a', 'b', 'c', 'a', 'b', 'c', 'd']"
      ]
     },
     "execution_count": 82,
     "metadata": {},
     "output_type": "execute_result"
    }
   ],
   "source": [
    "m = re.compile(\"[a-z]\")\n",
    "m.findall(\"abc123_abcdABCD\")"
   ]
  },
  {
   "cell_type": "code",
   "execution_count": 81,
   "metadata": {},
   "outputs": [
    {
     "data": {
      "text/plain": [
       "['A', 'B', 'C', 'D']"
      ]
     },
     "execution_count": 81,
     "metadata": {},
     "output_type": "execute_result"
    }
   ],
   "source": [
    "m = re.compile(\"[A-Z]\")\n",
    "m.findall(\"abc123_abcdABCD\")"
   ]
  },
  {
   "cell_type": "code",
   "execution_count": 84,
   "metadata": {},
   "outputs": [
    {
     "data": {
      "text/plain": [
       "['a', 'b', 'c', 'a', 'b', 'c', 'd', 'A', 'B', 'C', 'D']"
      ]
     },
     "execution_count": 84,
     "metadata": {},
     "output_type": "execute_result"
    }
   ],
   "source": [
    "m = re.compile(\"[a-zA-Z]\")\n",
    "m.findall(\"abc123_abcdABCD\")"
   ]
  },
  {
   "cell_type": "code",
   "execution_count": 90,
   "metadata": {},
   "outputs": [
    {
     "data": {
      "text/plain": [
       "['1', '2', '3']"
      ]
     },
     "execution_count": 90,
     "metadata": {},
     "output_type": "execute_result"
    }
   ],
   "source": [
    "m = re.compile(\"[0-9]\")\n",
    "m.findall(\"abc123_abcdABCD\")"
   ]
  },
  {
   "cell_type": "code",
   "execution_count": 92,
   "metadata": {
    "scrolled": true
   },
   "outputs": [
    {
     "data": {
      "text/plain": [
       "['1', '2', '3']"
      ]
     },
     "execution_count": 92,
     "metadata": {},
     "output_type": "execute_result"
    }
   ],
   "source": [
    "m = re.compile(\"\\d\")\n",
    "m.findall(\"abc123_abcdABCD\")"
   ]
  },
  {
   "cell_type": "code",
   "execution_count": 4,
   "metadata": {},
   "outputs": [
    {
     "data": {
      "text/plain": [
       "[]"
      ]
     },
     "execution_count": 4,
     "metadata": {},
     "output_type": "execute_result"
    }
   ],
   "source": [
    "m = re.compile(\"\\dabc\")\n",
    "m.findall(\"abc123_abcdABCD\")"
   ]
  },
  {
   "cell_type": "code",
   "execution_count": 94,
   "metadata": {},
   "outputs": [
    {
     "data": {
      "text/plain": [
       "['a', 'b', 'c', '1', '2', '3', 'a', 'b', 'c']"
      ]
     },
     "execution_count": 94,
     "metadata": {},
     "output_type": "execute_result"
    }
   ],
   "source": [
    "m = re.compile(\"[\\dabc]\")\n",
    "m.findall(\"abc123_abcdABCD\")"
   ]
  },
  {
   "cell_type": "code",
   "execution_count": 95,
   "metadata": {},
   "outputs": [
    {
     "data": {
      "text/plain": [
       "['a', 'b', 'c', '_', 'a', 'b', 'c', 'd', 'A', 'B', 'C', 'D']"
      ]
     },
     "execution_count": 95,
     "metadata": {},
     "output_type": "execute_result"
    }
   ],
   "source": [
    "m = re.compile(\"\\D\")\n",
    "m.findall(\"abc123_abcdABCD\")"
   ]
  },
  {
   "cell_type": "code",
   "execution_count": 98,
   "metadata": {},
   "outputs": [
    {
     "data": {
      "text/plain": [
       "[' ', '\\n']"
      ]
     },
     "execution_count": 98,
     "metadata": {},
     "output_type": "execute_result"
    }
   ],
   "source": [
    "m = re.compile(\"\\s\")\n",
    "m.findall(\"abc123_ab cdAB\\nCD\")"
   ]
  },
  {
   "cell_type": "code",
   "execution_count": 99,
   "metadata": {},
   "outputs": [
    {
     "data": {
      "text/plain": [
       "['a', 'b', 'c', '1', '2', '3', '_', 'a', 'b', 'c', 'd', 'A', 'B', 'C', 'D']"
      ]
     },
     "execution_count": 99,
     "metadata": {},
     "output_type": "execute_result"
    }
   ],
   "source": [
    "m = re.compile(\"\\w\")\n",
    "m.findall(\"abc123_abcdABCD\")"
   ]
  },
  {
   "cell_type": "code",
   "execution_count": 102,
   "metadata": {},
   "outputs": [
    {
     "data": {
      "text/plain": [
       "['!', ' ', '@']"
      ]
     },
     "execution_count": 102,
     "metadata": {},
     "output_type": "execute_result"
    }
   ],
   "source": [
    "m = re.compile(\"\\W\")\n",
    "m.findall(\"abc!123_abc dA@BCD\")"
   ]
  },
  {
   "cell_type": "code",
   "execution_count": 107,
   "metadata": {},
   "outputs": [
    {
     "data": {
      "text/plain": [
       "['a', 'b', 'c', '1', '2', '3', '_', 'a', 'b', 'c', 'd', 'A', 'B', 'C', 'D']"
      ]
     },
     "execution_count": 107,
     "metadata": {},
     "output_type": "execute_result"
    }
   ],
   "source": [
    "m = re.compile(\".\")\n",
    "m.findall(\"abc123_abcdABCD\")"
   ]
  },
  {
   "cell_type": "code",
   "execution_count": 108,
   "metadata": {},
   "outputs": [
    {
     "data": {
      "text/plain": [
       "['abc', 'abc']"
      ]
     },
     "execution_count": 108,
     "metadata": {},
     "output_type": "execute_result"
    }
   ],
   "source": [
    "m = re.compile(\"a.c\")\n",
    "m.findall(\"abc123_abcdABCD\")"
   ]
  },
  {
   "cell_type": "code",
   "execution_count": 111,
   "metadata": {},
   "outputs": [
    {
     "name": "stdout",
     "output_type": "stream",
     "text": [
      "['ac']\n",
      "['abc']\n",
      "['abbbbbbc']\n"
     ]
    }
   ],
   "source": [
    "m = re.compile(\"ab*c\")\n",
    "print(m.findall(\"ac\"))\n",
    "print(m.findall(\"abc\"))\n",
    "print(m.findall(\"abbbbbbc\"))"
   ]
  },
  {
   "cell_type": "code",
   "execution_count": 112,
   "metadata": {},
   "outputs": [
    {
     "name": "stdout",
     "output_type": "stream",
     "text": [
      "[]\n",
      "['abc']\n",
      "['abbbbbbc']\n"
     ]
    }
   ],
   "source": [
    "m = re.compile(\"ab+c\")\n",
    "print(m.findall(\"ac\"))\n",
    "print(m.findall(\"abc\"))\n",
    "print(m.findall(\"abbbbbbc\"))"
   ]
  },
  {
   "cell_type": "code",
   "execution_count": 115,
   "metadata": {},
   "outputs": [
    {
     "name": "stdout",
     "output_type": "stream",
     "text": [
      "[]\n",
      "['abbc']\n",
      "[]\n"
     ]
    }
   ],
   "source": [
    "m = re.compile(\"ab{2}c\")\n",
    "print(m.findall(\"ac\"))\n",
    "print(m.findall(\"abbc\"))\n",
    "print(m.findall(\"abbbbbbc\"))"
   ]
  },
  {
   "cell_type": "code",
   "execution_count": 146,
   "metadata": {},
   "outputs": [
    {
     "name": "stdout",
     "output_type": "stream",
     "text": [
      "[]\n",
      "['abbc']\n",
      "['abbbbbbc']\n"
     ]
    }
   ],
   "source": [
    "m = re.compile(\"ab{2,6}c\")\n",
    "print(m.findall(\"ac\"))\n",
    "print(m.findall(\"abbc\"))\n",
    "print(m.findall(\"abbbbbbc\"))"
   ]
  },
  {
   "cell_type": "code",
   "execution_count": 119,
   "metadata": {},
   "outputs": [
    {
     "name": "stdout",
     "output_type": "stream",
     "text": [
      "['ac']\n",
      "['abc']\n",
      "[]\n"
     ]
    }
   ],
   "source": [
    "m = re.compile(\"ab?c\")\n",
    "print(m.findall(\"ac\"))\n",
    "print(m.findall(\"abc\"))\n",
    "print(m.findall(\"abbbbbbc\"))"
   ]
  },
  {
   "cell_type": "code",
   "execution_count": 135,
   "metadata": {},
   "outputs": [
    {
     "name": "stdout",
     "output_type": "stream",
     "text": [
      "Match found:  python\n",
      "No match\n"
     ]
    }
   ],
   "source": [
    "p = re.compile(\"python\")\n",
    "m = p.match(\"python\")\n",
    "if m:\n",
    "    print('Match found: ', m.group())\n",
    "else:\n",
    "    print('No match')\n",
    "m = p.match(\"3python\")\n",
    "if m:\n",
    "    print('Match found: ', m.group())\n",
    "else:\n",
    "    print('No match')"
   ]
  },
  {
   "cell_type": "code",
   "execution_count": 144,
   "metadata": {},
   "outputs": [
    {
     "name": "stdout",
     "output_type": "stream",
     "text": [
      "Match found:  python\n",
      "Match found:  python\n",
      "Match found:  3python\n"
     ]
    }
   ],
   "source": [
    "p = re.compile(\"python\")\n",
    "m = p.search(\"python\")\n",
    "if m:\n",
    "    print('Match found: ', m.group())\n",
    "else:\n",
    "    print('No match')\n",
    "m = p.search(\"3python\")\n",
    "if m:\n",
    "    print('Match found: ', m.group())\n",
    "    print('Match found: ', m.string)\n",
    "else:\n",
    "    print('No match')"
   ]
  },
  {
   "cell_type": "code",
   "execution_count": 162,
   "metadata": {},
   "outputs": [
    {
     "name": "stdout",
     "output_type": "stream",
     "text": [
      "abc\n",
      "abdc\n",
      "asdf\n",
      "123adsf\n"
     ]
    }
   ],
   "source": [
    "p = re.compile(\"\\w+\")\n",
    "m = p.finditer(\"abc abdc asdf 123adsf\")\n",
    "for i in m:\n",
    "    print(i.group())"
   ]
  },
  {
   "cell_type": "code",
   "execution_count": 221,
   "metadata": {},
   "outputs": [
    {
     "data": {
      "text/plain": [
       "[]"
      ]
     },
     "execution_count": 221,
     "metadata": {},
     "output_type": "execute_result"
    }
   ],
   "source": [
    "p = re.compile(\"\\\\section\")\n",
    "p.findall(\"\\section\")"
   ]
  },
  {
   "cell_type": "code",
   "execution_count": 222,
   "metadata": {},
   "outputs": [
    {
     "data": {
      "text/plain": [
       "['\\\\section']"
      ]
     },
     "execution_count": 222,
     "metadata": {},
     "output_type": "execute_result"
    }
   ],
   "source": [
    "p = re.compile(\"\\\\\\section\")\n",
    "p.findall(\"\\section\")"
   ]
  },
  {
   "cell_type": "code",
   "execution_count": 223,
   "metadata": {},
   "outputs": [
    {
     "data": {
      "text/plain": [
       "['\\\\section']"
      ]
     },
     "execution_count": 223,
     "metadata": {},
     "output_type": "execute_result"
    }
   ],
   "source": [
    "p = re.compile(r\"\\\\section\")\n",
    "p.findall(\"\\section\")"
   ]
  },
  {
   "cell_type": "code",
   "execution_count": 234,
   "metadata": {},
   "outputs": [
    {
     "name": "stdout",
     "output_type": "stream",
     "text": [
      "['a', 'b', 'c', 'a', 's', 'd', '1', '2', '3', '4']\n",
      "abc\n"
     ]
    }
   ],
   "source": [
    "m = re.findall(\"\\w\",\"abc asd 1234\")\n",
    "print(m)\n",
    "m = re.match(\"\\w+\",\"abc asd 1234\")\n",
    "print(m.group())"
   ]
  },
  {
   "cell_type": "code",
   "execution_count": 242,
   "metadata": {},
   "outputs": [
    {
     "name": "stdout",
     "output_type": "stream",
     "text": [
      "['python']\n",
      "[]\n",
      "['python']\n"
     ]
    }
   ],
   "source": [
    "p = re.compile(\"python\")\n",
    "print(p.findall(\"it is python\"))\n",
    "p = re.compile(\"^python\")\n",
    "print(p.findall(\"it is python\"))\n",
    "p = re.compile(\"python$\")\n",
    "print(p.findall(\"it is python\"))"
   ]
  },
  {
   "cell_type": "code",
   "execution_count": 245,
   "metadata": {},
   "outputs": [
    {
     "name": "stdout",
     "output_type": "stream",
     "text": [
      "['python one']\n"
     ]
    }
   ],
   "source": [
    "p = re.compile(\"^python\\s\\w+\")\n",
    "s = \"\"\"python one\n",
    "life is too short\n",
    "python two\n",
    "you need python\n",
    "python three\"\"\"\n",
    "print(p.findall(s))"
   ]
  },
  {
   "cell_type": "code",
   "execution_count": 246,
   "metadata": {},
   "outputs": [
    {
     "name": "stdout",
     "output_type": "stream",
     "text": [
      "['python one', 'python two', 'python three']\n"
     ]
    }
   ],
   "source": [
    "p = re.compile(\"^python\\s\\w+\",re.MULTILINE)\n",
    "s = \"\"\"python one\n",
    "life is too short\n",
    "python two\n",
    "you need python\n",
    "python three\"\"\"\n",
    "print(p.findall(s))"
   ]
  },
  {
   "cell_type": "code",
   "execution_count": 249,
   "metadata": {},
   "outputs": [
    {
     "name": "stdout",
     "output_type": "stream",
     "text": [
      "['a', 'b', 'c', 'd']\n",
      "['a', 'b', 'c', 'd', 'A', 'B', 'C', 'D']\n"
     ]
    }
   ],
   "source": [
    "p = re.compile(\"[a-z]\")\n",
    "print(p.findall(\"abcdABCD\"))\n",
    "p = re.compile(\"[a-z]\",re.IGNORECASE)\n",
    "print(p.findall(\"abcdABCD\"))"
   ]
  },
  {
   "cell_type": "code",
   "execution_count": 261,
   "metadata": {},
   "outputs": [
    {
     "name": "stdout",
     "output_type": "stream",
     "text": [
      "['.com']\n",
      "['ccom', '.com']\n",
      "['c', 'c', 'o', 'm', '.', '.', 'c', 'o', 'm']\n"
     ]
    }
   ],
   "source": [
    "p = re.compile(\"\\.com\")\n",
    "print(p.findall(\"abcdABC.Da.com\"))\n",
    "p = re.compile(\".com\")\n",
    "print(p.findall(\"abccomdABC.Da.com\"))\n",
    "p = re.compile(\"[.com]\")\n",
    "print(p.findall(\"abccomdABC.Da.com\"))"
   ]
  },
  {
   "cell_type": "code",
   "execution_count": 288,
   "metadata": {},
   "outputs": [
    {
     "name": "stdout",
     "output_type": "stream",
     "text": [
      "['abc', '123']\n"
     ]
    }
   ],
   "source": [
    "p = re.compile(\"abc|123\")\n",
    "print(p.findall(\"abcdf 123&&##&#&#4\"))"
   ]
  },
  {
   "cell_type": "code",
   "execution_count": 291,
   "metadata": {},
   "outputs": [
    {
     "name": "stdout",
     "output_type": "stream",
     "text": [
      "[]\n",
      "['abc', '123', 'asdf', '4567']\n"
     ]
    }
   ],
   "source": [
    "p = re.compile(r\"\"\"\n",
    "[0-9]+\n",
    "|[a-z]+\n",
    "|[A-Z]+\n",
    "\"\"\")\n",
    "print(p.findall(\"abc 123 asdf 4567\"))\n",
    "p = re.compile(r\"\"\"\n",
    "[0-9]+\n",
    "|[a-z]+\n",
    "|[A-Z]+\n",
    "\"\"\",re.VERBOSE)\n",
    "print(p.findall(\"abc 123 asdf 4567\"))"
   ]
  },
  {
   "cell_type": "code",
   "execution_count": 302,
   "metadata": {},
   "outputs": [
    {
     "name": "stdout",
     "output_type": "stream",
     "text": [
      "['class']\n",
      "[' class ']\n",
      "['class']\n"
     ]
    }
   ],
   "source": [
    "p = re.compile('class')\n",
    "print(p.findall('no class at all')) \n",
    "p = re.compile(r'\\sclass\\s')\n",
    "print(p.findall('no class at all'))\n",
    "p = re.compile('\\\\bclass\\\\b')\n",
    "print(p.findall('no class at all')) "
   ]
  },
  {
   "cell_type": "code",
   "execution_count": 309,
   "metadata": {},
   "outputs": [
    {
     "name": "stdout",
     "output_type": "stream",
     "text": [
      "['class']\n",
      "[]\n",
      "[]\n"
     ]
    }
   ],
   "source": [
    "p = re.compile('class')\n",
    "print(p.findall('no classification at all')) \n",
    "p = re.compile(r'\\sclass\\s')\n",
    "print(p.findall('no classification at all'))\n",
    "p = re.compile('\\\\bclass\\\\b')\n",
    "print(p.findall('no classification at all')) "
   ]
  },
  {
   "cell_type": "code",
   "execution_count": 323,
   "metadata": {},
   "outputs": [
    {
     "name": "stdout",
     "output_type": "stream",
     "text": [
      "['http:']\n",
      "[]\n"
     ]
    }
   ],
   "source": [
    "p = re.compile(\".+:\")\n",
    "print(p.findall(\"http://google.com\"))\n",
    "p = re.compile(\".+(?=:)\")\n",
    "print(p.findall(\"http://google.com\"))"
   ]
  },
  {
   "cell_type": "code",
   "execution_count": 315,
   "metadata": {},
   "outputs": [
    {
     "name": "stdout",
     "output_type": "stream",
     "text": [
      "['https:']\n",
      "['http']\n"
     ]
    }
   ],
   "source": [
    "p = re.compile(\".+:\")\n",
    "print(p.findall(\"https://google.com\"))\n",
    "p = re.compile(\".+(?=s)\")\n",
    "print(p.findall(\"https://google.com\"))"
   ]
  },
  {
   "cell_type": "code",
   "execution_count": 326,
   "metadata": {},
   "outputs": [
    {
     "name": "stdout",
     "output_type": "stream",
     "text": [
      "['test.exe']\n",
      "['test.txtasdadd']\n"
     ]
    }
   ],
   "source": [
    "p = re.compile(\".*[.].*\")\n",
    "print(p.findall(\"test.exe\"))\n",
    "p = re.compile(\".*[.](?!exe).*\")\n",
    "print(p.findall(\"test.txt\"))"
   ]
  },
  {
   "cell_type": "code",
   "execution_count": 329,
   "metadata": {},
   "outputs": [
    {
     "data": {
      "text/plain": [
       "'colour socks and colour shoes'"
      ]
     },
     "execution_count": 329,
     "metadata": {},
     "output_type": "execute_result"
    }
   ],
   "source": [
    "p = re.compile(\"blue|white|red\")\n",
    "p.sub(\"colour\", \"blue socks and red shoes\")"
   ]
  },
  {
   "cell_type": "code",
   "execution_count": 336,
   "metadata": {},
   "outputs": [
    {
     "name": "stdout",
     "output_type": "stream",
     "text": [
      "the the\n",
      "word     word\n"
     ]
    }
   ],
   "source": [
    "p = re.compile(r'(?P<word>\\b\\w+)\\s+(?P=word)')\n",
    "print(p.search('Paris in the the spring').group())\n",
    "print(p.search('word     word').group())"
   ]
  },
  {
   "cell_type": "code",
   "execution_count": 337,
   "metadata": {},
   "outputs": [
    {
     "name": "stdout",
     "output_type": "stream",
     "text": [
      "010-1234-1234 park\n"
     ]
    }
   ],
   "source": [
    "p = re.compile(r\"(?P<name>\\w+)\\s+(?P<phone>(\\d+)[-]\\d+[-]\\d+)\")\n",
    "print(p.sub(\"\\g<phone> \\g<name>\", \"park 010-1234-1234\"))"
   ]
  },
  {
   "cell_type": "code",
   "execution_count": 339,
   "metadata": {},
   "outputs": [
    {
     "name": "stdout",
     "output_type": "stream",
     "text": [
      "65490\n",
      "49152\n"
     ]
    },
    {
     "data": {
      "text/plain": [
       "'Call 0xffd2 for printing, 0xc000 for user code.'"
      ]
     },
     "execution_count": 339,
     "metadata": {},
     "output_type": "execute_result"
    }
   ],
   "source": [
    "def hexrepl(match):\n",
    "    print(match.group())\n",
    "    value = int(match.group())\n",
    "    return hex(value)\n",
    "\n",
    "p = re.compile(r'\\d+')\n",
    "p.sub(hexrepl, 'Call 65490 for printing, 49152 for user code.')"
   ]
  },
  {
   "cell_type": "code",
   "execution_count": null,
   "metadata": {},
   "outputs": [],
   "source": []
  }
 ],
 "metadata": {
  "kernelspec": {
   "display_name": "Python 3",
   "language": "python",
   "name": "python3"
  },
  "language_info": {
   "codemirror_mode": {
    "name": "ipython",
    "version": 3
   },
   "file_extension": ".py",
   "mimetype": "text/x-python",
   "name": "python",
   "nbconvert_exporter": "python",
   "pygments_lexer": "ipython3",
   "version": "3.6.7"
  }
 },
 "nbformat": 4,
 "nbformat_minor": 2
}
