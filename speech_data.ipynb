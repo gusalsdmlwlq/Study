{
 "cells": [
  {
   "cell_type": "code",
   "execution_count": 1,
   "metadata": {},
   "outputs": [],
   "source": [
    "import wave\n",
    "import numpy as np\n",
    "import torch\n",
    "from matplotlib import pyplot as plt\n",
    "import glob"
   ]
  },
  {
   "cell_type": "code",
   "execution_count": 10,
   "metadata": {},
   "outputs": [],
   "source": [
    "scripts = []\n",
    "for i in glob.glob(\"data/train/*.script\"):\n",
    "    with open(i) as f:\n",
    "        scripts.append(f.readline())"
   ]
  },
  {
   "cell_type": "code",
   "execution_count": 11,
   "metadata": {},
   "outputs": [
    {
     "data": {
      "text/plain": [
       "30000"
      ]
     },
     "execution_count": 11,
     "metadata": {},
     "output_type": "execute_result"
    }
   ],
   "source": [
    "len(scripts)"
   ]
  },
  {
   "cell_type": "code",
   "execution_count": 19,
   "metadata": {},
   "outputs": [
    {
     "data": {
      "text/plain": [
       "[<matplotlib.lines.Line2D at 0x7ff767702710>]"
      ]
     },
     "execution_count": 19,
     "metadata": {},
     "output_type": "execute_result"
    },
    {
     "data": {
      "image/png": "[encoded data removed]",
      "text/plain": [
       "<Figure size 432x288 with 1 Axes>"
      ]
     },
     "metadata": {
      "needs_background": "light"
     },
     "output_type": "display_data"
    }
   ],
   "source": [
    "x = [len(i) for i in scripts]\n",
    "plt.plot(x)"
   ]
  },
  {
   "cell_type": "code",
   "execution_count": 23,
   "metadata": {},
   "outputs": [
    {
     "data": {
      "text/plain": [
       "(array([1.330e+02, 1.647e+03, 3.789e+03, 7.150e+03, 5.177e+03, 4.982e+03,\n",
       "        2.354e+03, 2.082e+03, 8.900e+02, 7.590e+02, 3.010e+02, 3.180e+02,\n",
       "        1.180e+02, 1.060e+02, 6.100e+01, 4.500e+01, 2.400e+01, 1.300e+01,\n",
       "        1.400e+01, 1.300e+01, 0.000e+00, 2.000e+00, 9.000e+00, 0.000e+00,\n",
       "        4.000e+00, 2.000e+00, 2.000e+00, 2.000e+00, 0.000e+00, 3.000e+00]),\n",
       " array([  3.        ,   6.53333333,  10.06666667,  13.6       ,\n",
       "         17.13333333,  20.66666667,  24.2       ,  27.73333333,\n",
       "         31.26666667,  34.8       ,  38.33333333,  41.86666667,\n",
       "         45.4       ,  48.93333333,  52.46666667,  56.        ,\n",
       "         59.53333333,  63.06666667,  66.6       ,  70.13333333,\n",
       "         73.66666667,  77.2       ,  80.73333333,  84.26666667,\n",
       "         87.8       ,  91.33333333,  94.86666667,  98.4       ,\n",
       "        101.93333333, 105.46666667, 109.        ]),\n",
       " <a list of 30 Patch objects>)"
      ]
     },
     "execution_count": 23,
     "metadata": {},
     "output_type": "execute_result"
    },
    {
     "data": {
      "image/png": "[encoded data removed]",
      "text/plain": [
       "<Figure size 432x288 with 1 Axes>"
      ]
     },
     "metadata": {
      "needs_background": "light"
     },
     "output_type": "display_data"
    }
   ],
   "source": [
    "plt.hist(x,bins=30)"
   ]
  },
  {
   "cell_type": "code",
   "execution_count": null,
   "metadata": {},
   "outputs": [],
   "source": []
  }
 ],
 "metadata": {
  "kernelspec": {
   "display_name": "Python 3",
   "language": "python",
   "name": "python3"
  },
  "language_info": {
   "codemirror_mode": {
    "name": "ipython",
    "version": 3
   },
   "file_extension": ".py",
   "mimetype": "text/x-python",
   "name": "python",
   "nbconvert_exporter": "python",
   "pygments_lexer": "ipython3",
   "version": "3.6.9"
  }
 },
 "nbformat": 4,
 "nbformat_minor": 2
}
