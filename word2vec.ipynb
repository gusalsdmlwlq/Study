{
 "cells": [
  {
   "cell_type": "code",
   "execution_count": 31,
   "metadata": {},
   "outputs": [],
   "source": [
    "data = [\n",
    "    'king is a strong man',\n",
    "    'queen is a wise woman', \n",
    "    'boy is a young man',\n",
    "    'girl is a young woman',\n",
    "    'prince is a young king',\n",
    "    'princess is a young queen',\n",
    "    'man is strong', \n",
    "    'woman is pretty',\n",
    "    'prince is a boy will be king',\n",
    "    'princess is a girl will be queen'\n",
    "]"
   ]
  },
  {
   "cell_type": "code",
   "execution_count": 2,
   "metadata": {},
   "outputs": [],
   "source": [
    "import nltk\n",
    "from nltk.tokenize import word_tokenize\n",
    "from nltk.corpus import stopwords"
   ]
  },
  {
   "cell_type": "code",
   "execution_count": 33,
   "metadata": {},
   "outputs": [],
   "source": [
    "stop_words = set(stopwords.words(\"english\"))\n",
    "sentences = [word_tokenize(sentence) for sentence in data]\n",
    "for i,sentence in enumerate(sentences):\n",
    "    sent = []\n",
    "    for word in sentence:\n",
    "        if word not in stop_words:\n",
    "            sent.append(word)\n",
    "    sentences[i] = sent"
   ]
  },
  {
   "cell_type": "code",
   "execution_count": 34,
   "metadata": {},
   "outputs": [
    {
     "data": {
      "text/plain": [
       "[['king', 'strong', 'man'],\n",
       " ['queen', 'wise', 'woman'],\n",
       " ['boy', 'young', 'man'],\n",
       " ['girl', 'young', 'woman'],\n",
       " ['prince', 'young', 'king'],\n",
       " ['princess', 'young', 'queen'],\n",
       " ['man', 'strong'],\n",
       " ['woman', 'pretty'],\n",
       " ['prince', 'boy', 'king'],\n",
       " ['princess', 'girl', 'queen']]"
      ]
     },
     "execution_count": 34,
     "metadata": {},
     "output_type": "execute_result"
    }
   ],
   "source": [
    "sentences"
   ]
  },
  {
   "cell_type": "code",
   "execution_count": 35,
   "metadata": {},
   "outputs": [],
   "source": [
    "words = []\n",
    "for sentence in sentences:\n",
    "    for word in sentence:\n",
    "        words.append(word)\n",
    "words = set(words)\n",
    "dictionary = {}\n",
    "for i,word in enumerate(words):\n",
    "    dictionary[word] = i\n",
    "voca_size = len(dictionary)"
   ]
  },
  {
   "cell_type": "code",
   "execution_count": 36,
   "metadata": {},
   "outputs": [
    {
     "data": {
      "text/plain": [
       "{'woman': 0,\n",
       " 'prince': 1,\n",
       " 'princess': 2,\n",
       " 'young': 3,\n",
       " 'pretty': 4,\n",
       " 'strong': 5,\n",
       " 'girl': 6,\n",
       " 'man': 7,\n",
       " 'king': 8,\n",
       " 'wise': 9,\n",
       " 'boy': 10,\n",
       " 'queen': 11}"
      ]
     },
     "execution_count": 36,
     "metadata": {},
     "output_type": "execute_result"
    }
   ],
   "source": [
    "dictionary"
   ]
  },
  {
   "cell_type": "code",
   "execution_count": 37,
   "metadata": {},
   "outputs": [],
   "source": [
    "import tensorflow as tf\n",
    "import numpy as np\n",
    "import matplotlib.pyplot as plt"
   ]
  },
  {
   "cell_type": "code",
   "execution_count": 38,
   "metadata": {},
   "outputs": [],
   "source": [
    "window_size = 2\n",
    "data = []\n",
    "for sentence in sentences:\n",
    "    for i,word in enumerate(sentence):\n",
    "        for target in sentence[max(i-window_size,0):min(i+window_size,len(sentence))+1]:\n",
    "            if target != word:\n",
    "                data.append([word,target])"
   ]
  },
  {
   "cell_type": "code",
   "execution_count": 39,
   "metadata": {},
   "outputs": [
    {
     "data": {
      "text/plain": [
       "[['king', 'strong'],\n",
       " ['king', 'man'],\n",
       " ['strong', 'king'],\n",
       " ['strong', 'man'],\n",
       " ['man', 'king'],\n",
       " ['man', 'strong'],\n",
       " ['queen', 'wise'],\n",
       " ['queen', 'woman'],\n",
       " ['wise', 'queen'],\n",
       " ['wise', 'woman'],\n",
       " ['woman', 'queen'],\n",
       " ['woman', 'wise'],\n",
       " ['boy', 'young'],\n",
       " ['boy', 'man'],\n",
       " ['young', 'boy'],\n",
       " ['young', 'man'],\n",
       " ['man', 'boy'],\n",
       " ['man', 'young'],\n",
       " ['girl', 'young'],\n",
       " ['girl', 'woman'],\n",
       " ['young', 'girl'],\n",
       " ['young', 'woman'],\n",
       " ['woman', 'girl'],\n",
       " ['woman', 'young'],\n",
       " ['prince', 'young'],\n",
       " ['prince', 'king'],\n",
       " ['young', 'prince'],\n",
       " ['young', 'king'],\n",
       " ['king', 'prince'],\n",
       " ['king', 'young'],\n",
       " ['princess', 'young'],\n",
       " ['princess', 'queen'],\n",
       " ['young', 'princess'],\n",
       " ['young', 'queen'],\n",
       " ['queen', 'princess'],\n",
       " ['queen', 'young'],\n",
       " ['man', 'strong'],\n",
       " ['strong', 'man'],\n",
       " ['woman', 'pretty'],\n",
       " ['pretty', 'woman'],\n",
       " ['prince', 'boy'],\n",
       " ['prince', 'king'],\n",
       " ['boy', 'prince'],\n",
       " ['boy', 'king'],\n",
       " ['king', 'prince'],\n",
       " ['king', 'boy'],\n",
       " ['princess', 'girl'],\n",
       " ['princess', 'queen'],\n",
       " ['girl', 'princess'],\n",
       " ['girl', 'queen'],\n",
       " ['queen', 'princess'],\n",
       " ['queen', 'girl']]"
      ]
     },
     "execution_count": 39,
     "metadata": {},
     "output_type": "execute_result"
    }
   ],
   "source": [
    "data"
   ]
  },
  {
   "cell_type": "code",
   "execution_count": 40,
   "metadata": {},
   "outputs": [],
   "source": [
    "def onehot(word):\n",
    "    one_hot = np.zeros(voca_size)\n",
    "    one_hot[dictionary[word]] = 1\n",
    "    return one_hot"
   ]
  },
  {
   "cell_type": "code",
   "execution_count": 41,
   "metadata": {},
   "outputs": [
    {
     "data": {
      "text/plain": [
       "array([0., 0., 0., 0., 0., 0., 0., 0., 1., 0., 0., 0.])"
      ]
     },
     "execution_count": 41,
     "metadata": {},
     "output_type": "execute_result"
    }
   ],
   "source": [
    "onehot(\"king\")"
   ]
  },
  {
   "cell_type": "code",
   "execution_count": 42,
   "metadata": {},
   "outputs": [],
   "source": [
    "X_train = []\n",
    "y_train = []\n",
    "for i in data:\n",
    "    X_train.append(onehot(i[0]))\n",
    "    y_train.append(onehot(i[1]))"
   ]
  },
  {
   "cell_type": "code",
   "execution_count": 26,
   "metadata": {},
   "outputs": [
    {
     "name": "stdout",
     "output_type": "stream",
     "text": [
      "loss :  3.1284509\n",
      "loss :  1.5437598\n",
      "loss :  1.5333343\n",
      "loss :  1.5311241\n",
      "loss :  1.5291826\n"
     ]
    }
   ],
   "source": [
    "embedding_size = 2\n",
    "\n",
    "with tf.variable_scope(\"word2vec\",reuse=tf.AUTO_REUSE):\n",
    "    X = tf.placeholder(name=\"X\", dtype=tf.float32, shape=[None,voca_size])\n",
    "    y = tf.placeholder(name=\"y\", dtype=tf.float32, shape=[None,voca_size])\n",
    "\n",
    "    W1 = tf.get_variable(\"W1\", shape=[voca_size, embedding_size], dtype=tf.float32, initializer=tf.random_normal_initializer())\n",
    "    b1 = tf.get_variable(\"b1\", shape=[embedding_size], dtype=tf.float32, initializer=tf.random_normal_initializer())\n",
    "\n",
    "    layer1 = tf.matmul(X, W1) + b1\n",
    "\n",
    "    W2 = tf.get_variable(\"W2\", shape=[embedding_size, voca_size], dtype=tf.float32, initializer=tf.random_normal_initializer())\n",
    "    b2 = tf.get_variable(\"b2\", shape=[voca_size], dtype=tf.float32, initializer=tf.random_normal_initializer())\n",
    "\n",
    "    output = tf.nn.softmax_cross_entropy_with_logits_v2(labels=y, logits=tf.matmul(layer1,W2) + b2)\n",
    "\n",
    "    loss = tf.reduce_mean(output,axis=0)\n",
    "    train = tf.train.AdamOptimizer(0.05).minimize(loss)\n",
    "    \n",
    "sess = tf.Session()\n",
    "sess.run(tf.global_variables_initializer())\n",
    "for i in range(5000):\n",
    "    l,_ = sess.run([loss,train],feed_dict={X:X_train, y:y_train})\n",
    "    if i%1000 == 0:\n",
    "        print(\"loss : \",l)"
   ]
  },
  {
   "cell_type": "code",
   "execution_count": 43,
   "metadata": {},
   "outputs": [
    {
     "name": "stdout",
     "output_type": "stream",
     "text": [
      "woman [  5.5880537 -13.17275  ]\n",
      "prince [-5.256079  -1.5950387]\n",
      "princess [ 2.2815313 -5.3877497]\n",
      "young [0.55754465 0.9934356 ]\n",
      "pretty [ 8.468933 10.093153]\n",
      "strong [-1.4565146   0.46706748]\n",
      "girl [  4.7928524 -10.225569 ]\n",
      "man [-13.641595   -3.7097003]\n",
      "king [-14.04949    -3.4013562]\n",
      "wise [ 1.5003488 -1.4838688]\n",
      "boy [-11.920719  -2.769219]\n",
      "queen [  5.644661 -12.37257 ]\n"
     ]
    },
    {
     "data": {
      "image/png": "[encoded data removed]",
      "text/plain": [
       "<Figure size 720x720 with 1 Axes>"
      ]
     },
     "metadata": {
      "needs_background": "light"
     },
     "output_type": "display_data"
    }
   ],
   "source": [
    "fig = plt.figure(figsize=(10,10))\n",
    "for word in dictionary:\n",
    "    res = sess.run(layer1,feed_dict={X:[onehot(word)]})[0]\n",
    "    print(word,res)\n",
    "    plt.annotate(word,res)\n",
    "plt.xlim(-25,25)\n",
    "plt.ylim(-25,25)\n",
    "plt.show()"
   ]
  },
  {
   "cell_type": "code",
   "execution_count": null,
   "metadata": {},
   "outputs": [],
   "source": []
  }
 ],
 "metadata": {
  "kernelspec": {
   "display_name": "Python 3",
   "language": "python",
   "name": "python3"
  },
  "language_info": {
   "codemirror_mode": {
    "name": "ipython",
    "version": 3
   },
   "file_extension": ".py",
   "mimetype": "text/x-python",
   "name": "python",
   "nbconvert_exporter": "python",
   "pygments_lexer": "ipython3",
   "version": "3.6.7"
  }
 },
 "nbformat": 4,
 "nbformat_minor": 2
}
