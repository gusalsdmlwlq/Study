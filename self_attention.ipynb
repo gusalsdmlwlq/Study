{
 "cells": [
  {
   "cell_type": "code",
   "execution_count": 175,
   "metadata": {},
   "outputs": [],
   "source": [
    "import wave\n",
    "import numpy as np\n",
    "import torch\n",
    "import glob\n",
    "\n",
    "N_FFT = 1022\n",
    "SAMPLE_RATE = 16000\n",
    "\n",
    "def _wav2array(nchannels, sampwidth, data):\n",
    "    \"\"\"data must be the string containing the bytes from the wav file.\"\"\"\n",
    "    num_samples, remainder = divmod(len(data), sampwidth * nchannels)\n",
    "    if remainder > 0:\n",
    "        raise ValueError('The length of data is not a multiple of '\n",
    "                         'sampwidth * num_channels.')\n",
    "    if sampwidth > 4:\n",
    "        raise ValueError(\"sampwidth must not be greater than 4.\")\n",
    "\n",
    "    if sampwidth == 3:\n",
    "        a = np.empty((num_samples, nchannels, 4), dtype=np.uint8)\n",
    "        raw_bytes = np.fromstring(data, dtype=np.uint8)\n",
    "        a[:, :, :sampwidth] = raw_bytes.reshape(-1, nchannels, sampwidth)\n",
    "        a[:, :, sampwidth:] = (a[:, :, sampwidth - 1:sampwidth] >> 7) * 255\n",
    "        result = a.view('<i4').reshape(a.shape[:-1])\n",
    "    else:\n",
    "        # 8 bit samples are stored as unsigned ints; others as signed ints.\n",
    "        dt_char = 'u' if sampwidth == 1 else 'i'\n",
    "        a = np.fromstring(data, dtype='<%s%d' % (dt_char, sampwidth))\n",
    "        result = a.reshape(-1, nchannels)\n",
    "    return result\n",
    "def readwav(file):\n",
    "    \"\"\"\n",
    "    Read a wav file.\n",
    "    Returns the frame rate, sample width (in bytes) and a numpy array\n",
    "    containing the data.\n",
    "    This function does not read compressed wav files.\n",
    "    \"\"\"\n",
    "    wav = wave.open(file)\n",
    "    rate = wav.getframerate()\n",
    "    nchannels = wav.getnchannels()\n",
    "    sampwidth = wav.getsampwidth()\n",
    "    nframes = wav.getnframes()\n",
    "    data = wav.readframes(nframes)\n",
    "    wav.close()\n",
    "    array = _wav2array(nchannels, sampwidth, data)\n",
    "    return rate, sampwidth, array\n",
    "def get_spectrogram_feature(filepath):\n",
    "    (rate, width, sig) = readwav(filepath)\n",
    "    sig = sig.ravel()\n",
    "    stft = torch.stft(torch.FloatTensor(sig),\n",
    "                        N_FFT,\n",
    "                        hop_length=int(0.01*SAMPLE_RATE),\n",
    "                        win_length=int(0.030*SAMPLE_RATE),\n",
    "                        window=torch.hamming_window(int(0.030*SAMPLE_RATE)),\n",
    "                        center=False,\n",
    "                        normalized=False,\n",
    "                        onesided=True)\n",
    "    stft = (stft[:,:,0].pow(2) + stft[:,:,1].pow(2)).pow(0.5);\n",
    "    amag = stft.numpy();\n",
    "    feat = torch.FloatTensor(amag)\n",
    "    feat = torch.FloatTensor(feat).transpose(0, 1)\n",
    "\n",
    "    return feat"
   ]
  },
  {
   "cell_type": "code",
   "execution_count": 107,
   "metadata": {},
   "outputs": [],
   "source": [
    "data = glob.glob(\"data/train/*.wav\")"
   ]
  },
  {
   "cell_type": "code",
   "execution_count": 135,
   "metadata": {},
   "outputs": [],
   "source": [
    "class MultiHeadAttention(torch.nn.Module):\n",
    "    def __init__(self, d_model, num_heads, dropout=0.0):\n",
    "        super(MultiHeadAttention, self).__init__()\n",
    "        \n",
    "        self.d_model = d_model\n",
    "        self.d_k = int(d_model / num_heads)\n",
    "        self.h = num_heads\n",
    "        if self.d_k*num_heads != self.d_model:\n",
    "            raise Exception(\"d_model cannot be divided by num_heads.\")\n",
    "            \n",
    "        self.fc_q = torch.nn.Linear(d_model, d_model)\n",
    "        self.fc_k = torch.nn.Linear(d_model, d_model)\n",
    "        self.fc_v = torch.nn.Linear(d_model, d_model)\n",
    "        \n",
    "        self.dropout = torch.nn.Dropout(dropout)\n",
    "        \n",
    "        self.softmax = torch.nn.Softmax(dim=-1)\n",
    "        \n",
    "        self.out = torch.nn.Linear(d_model, d_model)\n",
    "        \n",
    "    def attention(self, q, k, v, d_k, mask=None):\n",
    "        score = torch.matmul(q, k.transpose(-2, -1)) / np.sqrt(d_k)\n",
    "        \n",
    "        if mask is not None:\n",
    "            mask = mask.unsqueeze(1)\n",
    "            score = score.masked_fill(mask==0, -float('inf'))\n",
    "            \n",
    "        score = self.softmax(score)\n",
    "        output = torch.matmul(score, v)\n",
    "        return output\n",
    "    \n",
    "    def forward(self, q, k, v, mask=None):\n",
    "#         (batch, time, hidden)\n",
    "        batch_size = q.size(0)\n",
    "        \n",
    "#         (batch, head, time, hidden/head)\n",
    "        q = (self.fc_q(q).view(batch_size, -1, self.h, self.d_k)).transpose(1,2)\n",
    "        k = (self.fc_k(k).view(batch_size, -1, self.h, self.d_k)).transpose(1,2)\n",
    "        v = (self.fc_v(v).view(batch_size, -1, self.h, self.d_k)).transpose(1,2)\n",
    "        \n",
    "#         (batch, head, time, hidden/head)\n",
    "        outputs = self.attention(q, k, v, self.d_k, mask)\n",
    "#         (batch, time, hidden)\n",
    "        outputs = outputs.transpose(1,2).contiguous().view(batch_size, -1, self.d_model)\n",
    "        output = self.out(outputs)\n",
    "        output = self.dropout(output)\n",
    "        \n",
    "        return output\n",
    "    "
   ]
  },
  {
   "cell_type": "code",
   "execution_count": 136,
   "metadata": {},
   "outputs": [],
   "source": [
    "class PositionalEncoding(torch.nn.Module):\n",
    "    def __init__(self, d_model, max_len):\n",
    "        super(PositionalEncoding, self).__init__()\n",
    "        \n",
    "        self.d_model = d_model\n",
    "        \n",
    "        pe = torch.zeros((max_len, d_model))\n",
    "        for pos in range(max_len):\n",
    "            for i in range(0, d_model, 2):\n",
    "                pe[pos, i] = np.sin(pos / 10000 ** (i / d_model))\n",
    "                pe[pos, i+1] = np.cos(pos / 10000 ** (i / d_model))\n",
    "        pe = pe.unsqueeze(0)\n",
    "        self.register_buffer(\"pe\", pe)\n",
    "        \n",
    "    def forward(self, x):\n",
    "        seq_len = x.size(1)\n",
    "        output = x + self.pe[:, :seq_len, :].detach()\n",
    "        \n",
    "        return output"
   ]
  },
  {
   "cell_type": "code",
   "execution_count": 137,
   "metadata": {},
   "outputs": [],
   "source": [
    "def create_mask(target_sequence, pad_token):\n",
    "    target_mask = (target_sequence != pad_token).unsqueeze(1)\n",
    "    \n",
    "    size = target_sequence.size(1)\n",
    "    \n",
    "    nopeak_mask = np.triu(np.ones((1, size, size)), k=1)\n",
    "    nopeak_mask = (torch.from_numpy(nopeak_mask)==0).detach()\n",
    "    \n",
    "    target_mask = target_mask & nopeak_mask\n",
    "    \n",
    "    return target_mask"
   ]
  },
  {
   "cell_type": "code",
   "execution_count": 138,
   "metadata": {},
   "outputs": [
    {
     "name": "stdout",
     "output_type": "stream",
     "text": [
      "torch.Size([4, 20, 20])\n"
     ]
    }
   ],
   "source": [
    "target_seq = torch.randn((4, 20))\n",
    "\n",
    "target_mask = create_mask(target_seq, 0)\n",
    "print(target_mask.shape)"
   ]
  },
  {
   "cell_type": "code",
   "execution_count": 139,
   "metadata": {},
   "outputs": [],
   "source": [
    "class FeedForward(torch.nn.Module):\n",
    "    def __init__(self, d_model, d_ff, dropout=0.0):\n",
    "        super(FeedForward, self).__init__()\n",
    "        \n",
    "        self.fc1 = torch.nn.Linear(d_model, d_ff)\n",
    "        self.fc2 = torch.nn.Linear(d_ff, d_model)\n",
    "        self.dropout = torch.nn.Dropout(dropout)\n",
    "        self.relu = torch.nn.ReLU()\n",
    "    \n",
    "    def forward(self, x):\n",
    "        output = self.fc1(x)\n",
    "        output = self.relu(output)\n",
    "        output = self.dropout(output)\n",
    "        output = self.fc2(output)\n",
    "        output = self.dropout(output)\n",
    "        \n",
    "        return output"
   ]
  },
  {
   "cell_type": "code",
   "execution_count": 140,
   "metadata": {},
   "outputs": [],
   "source": [
    "class Norm(torch.nn.Module):\n",
    "    def __init__(self, d_model, eps=1e-6):\n",
    "        super(Norm, self).__init__()\n",
    "        \n",
    "        self.size = d_model\n",
    "        \n",
    "        self.alpha = torch.nn.Parameter(torch.ones(self.size))\n",
    "        self.bias = torch.nn.Parameter(torch.zeros(self.size))\n",
    "        self.eps = eps\n",
    "    \n",
    "    def forward(self, x):\n",
    "        output = self.alpha * (x - x.mean(dim=-1, keepdim=True)) / (x.std(dim=-1, keepdim=True) + self.eps) + self.bias\n",
    "        return output"
   ]
  },
  {
   "cell_type": "code",
   "execution_count": 141,
   "metadata": {},
   "outputs": [],
   "source": [
    "class Encoder(torch.nn.Module):\n",
    "    def __init__(self, d_model, num_heads, dropout=0.0):\n",
    "        super(Encoder, self).__init__()\n",
    "        \n",
    "        self.norm1 = Norm(d_model)\n",
    "        self.norm2 = Norm(d_model)\n",
    "        self.attention = MultiHeadAttention(d_model, num_heads, dropout)\n",
    "        self.fc = FeedForward(d_model, d_model*2, dropout)\n",
    "        \n",
    "    def forward(self, x):\n",
    "        output = self.attention(x, x, x)\n",
    "        output = self.norm1(output + x)\n",
    "        output_res = output.detach()\n",
    "        output = self.fc(output)\n",
    "        output = self.norm2(output + output_res)\n",
    "        \n",
    "        return output"
   ]
  },
  {
   "cell_type": "code",
   "execution_count": 142,
   "metadata": {},
   "outputs": [],
   "source": [
    "class Decoder(torch.nn.Module):\n",
    "    def __init__(self, d_model, num_heads, dropout=0.0):\n",
    "        super(Decoder, self).__init__()\n",
    "        \n",
    "        self.norm1 = Norm(d_model)\n",
    "        self.norm2 = Norm(d_model)\n",
    "        self.norm3 = Norm(d_model)\n",
    "        self.attention1 = MultiHeadAttention(d_model, num_heads, dropout)\n",
    "        self.attention2 = MultiHeadAttention(d_model, num_heads, dropout)\n",
    "        self.fc = FeedForward(d_model, d_model*2, dropout)\n",
    "    \n",
    "    def forward(self, x, encoder_output, target_mask=None):\n",
    "        output = self.attention1(x, x, x, target_mask)\n",
    "        output = self.norm1(output + x)\n",
    "        output_res = output.detach()\n",
    "        output = self.attention2(output, encoder_output, encoder_output)\n",
    "        output = self.norm2(output + output_res)\n",
    "        output_res = output.detach()\n",
    "        output = self.fc(output)\n",
    "        output = self.norm3(output + output_res)\n",
    "        \n",
    "        return output"
   ]
  },
  {
   "cell_type": "code",
   "execution_count": 143,
   "metadata": {},
   "outputs": [],
   "source": [
    "class EncoderStack(torch.nn.Module):\n",
    "    def __init__(self, d_model, num_heads, num_layers, max_len, dropout=0.0):\n",
    "        super(EncoderStack, self).__init__()\n",
    "        \n",
    "        self.num_layers = num_layers\n",
    "        self.pe = PositionalEncoding(d_model, max_len)\n",
    "        self.layers = torch.nn.ModuleList([Encoder(d_model, num_heads, dropout) for l in range(num_layers)])\n",
    "    \n",
    "    def forward(self, x):\n",
    "        output = self.pe(x)\n",
    "        \n",
    "        for layer in range(self.num_layers):\n",
    "            output = self.layers[layer](output)\n",
    "        \n",
    "        return output"
   ]
  },
  {
   "cell_type": "code",
   "execution_count": 144,
   "metadata": {},
   "outputs": [],
   "source": [
    "class DecoderStack(torch.nn.Module):\n",
    "    def __init__(self, d_model, num_heads, num_layers, max_len, vocab_size, sos_id, eos_id, dropout=0.0):\n",
    "        super(DecoderStack, self).__init__()\n",
    "        \n",
    "        self.num_layers = num_layers\n",
    "        self.embedding = torch.nn.Embedding(vocab_size, d_model)\n",
    "        self.pe = PositionalEncoding(d_model, max_len)\n",
    "        self.layers = torch.nn.ModuleList([Decoder(d_model, num_heads, dropout) for l in range(num_layers)])\n",
    "        self.sos_id = sos_id\n",
    "        \n",
    "    def decode(self, step_input, step_output):\n",
    "        symbols = step_output.topk(1)[1].unsqueeze(1)\n",
    "        concat = torch.cat([step_input, symbols], dim=1)\n",
    "        \n",
    "        return concat\n",
    "        \n",
    "    def forward(self, x=None, encoder_output=None, target_mask=None, is_predict=False):\n",
    "#         when test, x=None / is_predict=True\n",
    "#         when eval, x!=None / is_predict=True\n",
    "        pred_outputs = []\n",
    "        if x is None:\n",
    "            batch_size = 1\n",
    "            x = torch.LongTensor([self.sos_id] * batch_size).view(batch_size, 1)\n",
    "        else:\n",
    "            batch_size = x.size(0)\n",
    "        \n",
    "        \n",
    "        if is_predict == False:\n",
    "            output = self.embedding(x)\n",
    "            output = self.pe(output)\n",
    "            for layer in range(self.num_layers):\n",
    "                output = self.layers[layer](output, encoder_output, target_mask)\n",
    "        else:\n",
    "            step_input = x.unsqueeze(1)\n",
    "            step_output = step_input\n",
    "            for i in range(max_len):\n",
    "                step_output = self.embedding(step_output)\n",
    "                step_output = self.pe(step_output)\n",
    "                \n",
    "                for layer in range(self.num_layers):\n",
    "                    step_output = self.layers[layer](step_output, encoder_output)\n",
    "                    \n",
    "                step_output = step_output[:,i,:]\n",
    "                pred_outputs.append(step_output)\n",
    "                step_input = decode(step_input, step_output)\n",
    "                step_output = step_input\n",
    "        \n",
    "        return output"
   ]
  },
  {
   "cell_type": "code",
   "execution_count": 145,
   "metadata": {},
   "outputs": [],
   "source": [
    "class Transformer(torch.nn.Module):\n",
    "    def __init__(self, d_model, num_heads, num_laysers, vocab_size, enc_max_len, dec_max_len, sos_id, eos_id, dropout=0.0):\n",
    "        super(Transformer, self).__init__()\n",
    "        \n",
    "        self.encoder = EncoderStack(d_model, num_heads, num_laysers, enc_max_len, dropout)\n",
    "        self.decoder = DecoderStack(d_model, num_heads, num_laysers, dec_max_len, vocab_size, sos_id, eos_id, dropout)\n",
    "        self.fc = torch.nn.Linear(d_model, vocab_size)\n",
    "        self.out = torch.nn.LogSoftmax(dim=1)\n",
    "        \n",
    "    def forward(self, x, target=None, target_mask=None, is_predict=False):\n",
    "        encoder_output = self.encoder(x)\n",
    "        decoder_output = self.decoder(target, encoder_output, target_mask, is_predict)\n",
    "        \n",
    "        output = self.fc(decoder_output)\n",
    "        output = self.out(output)\n",
    "        \n",
    "        return output"
   ]
  },
  {
   "cell_type": "code",
   "execution_count": 146,
   "metadata": {},
   "outputs": [],
   "source": [
    "model = Transformer(512,8,6,820,100,80,818,819,0.1).cuda()"
   ]
  },
  {
   "cell_type": "code",
   "execution_count": 147,
   "metadata": {},
   "outputs": [],
   "source": [
    "# x = get_spectrogram_feature(data[0]).unsqueeze(0).cuda()\n",
    "x = torch.randn((4,80,512)).cuda()\n",
    "target = [\n",
    "    [1, 2, 3, 5, 0],\n",
    "    [1, 2, 2, 0, 0],\n",
    "    [1, 2, 3, 4, 5],\n",
    "    [1, 2, 3, 0, 0]\n",
    "]\n",
    "target = torch.tensor(target).cuda()"
   ]
  },
  {
   "cell_type": "code",
   "execution_count": 148,
   "metadata": {},
   "outputs": [
    {
     "data": {
      "text/plain": [
       "torch.Size([4, 5, 820])"
      ]
     },
     "execution_count": 148,
     "metadata": {},
     "output_type": "execute_result"
    }
   ],
   "source": [
    "model(x, target).shape"
   ]
  },
  {
   "cell_type": "code",
   "execution_count": 158,
   "metadata": {},
   "outputs": [
    {
     "data": {
      "text/plain": [
       "torch.Size([4, 80, 1])"
      ]
     },
     "execution_count": 158,
     "metadata": {},
     "output_type": "execute_result"
    }
   ],
   "source": [
    "x.topk(1)[1].shape"
   ]
  },
  {
   "cell_type": "code",
   "execution_count": 156,
   "metadata": {},
   "outputs": [
    {
     "data": {
      "text/plain": [
       "torch.Size([4, 80, 512])"
      ]
     },
     "execution_count": 156,
     "metadata": {},
     "output_type": "execute_result"
    }
   ],
   "source": [
    "x.shape"
   ]
  },
  {
   "cell_type": "code",
   "execution_count": 170,
   "metadata": {},
   "outputs": [],
   "source": [
    "x = []\n",
    "for i in range(28):\n",
    "    x.append(torch.randn((4,256)))"
   ]
  },
  {
   "cell_type": "code",
   "execution_count": 171,
   "metadata": {},
   "outputs": [],
   "source": [
    "y = torch.stack(x,dim=1)"
   ]
  },
  {
   "cell_type": "code",
   "execution_count": 172,
   "metadata": {},
   "outputs": [
    {
     "data": {
      "text/plain": [
       "torch.Size([4, 28, 256])"
      ]
     },
     "execution_count": 172,
     "metadata": {},
     "output_type": "execute_result"
    }
   ],
   "source": [
    "y.shape"
   ]
  },
  {
   "cell_type": "code",
   "execution_count": 173,
   "metadata": {},
   "outputs": [
    {
     "data": {
      "text/plain": [
       "list"
      ]
     },
     "execution_count": 173,
     "metadata": {},
     "output_type": "execute_result"
    }
   ],
   "source": [
    "type(x)"
   ]
  },
  {
   "cell_type": "code",
   "execution_count": null,
   "metadata": {},
   "outputs": [],
   "source": []
  }
 ],
 "metadata": {
  "kernelspec": {
   "display_name": "Python 3",
   "language": "python",
   "name": "python3"
  },
  "language_info": {
   "codemirror_mode": {
    "name": "ipython",
    "version": 3
   },
   "file_extension": ".py",
   "mimetype": "text/x-python",
   "name": "python",
   "nbconvert_exporter": "python",
   "pygments_lexer": "ipython3",
   "version": "3.6.9"
  }
 },
 "nbformat": 4,
 "nbformat_minor": 2
}
