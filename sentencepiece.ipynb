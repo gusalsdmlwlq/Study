{
 "cells": [
  {
   "cell_type": "code",
   "execution_count": 2,
   "metadata": {},
   "outputs": [],
   "source": [
    "import sentencepiece as spm"
   ]
  },
  {
   "cell_type": "code",
   "execution_count": 3,
   "metadata": {},
   "outputs": [
    {
     "data": {
      "text/plain": [
       "True"
      ]
     },
     "execution_count": 3,
     "metadata": {},
     "output_type": "execute_result"
    }
   ],
   "source": [
    "train = \"--input=./data/sample.txt --model_prefix=sentence_piece --vocab_size=40 --model_type=bpe\"\n",
    "spm.SentencePieceTrainer.Train(train)"
   ]
  },
  {
   "cell_type": "code",
   "execution_count": 4,
   "metadata": {},
   "outputs": [
    {
     "name": "stdout",
     "output_type": "stream",
     "text": [
      "<unk>\t0\n",
      "<s>\t0\n",
      "</s>\t0\n",
      "is\t-0\n",
      "en\t-1\n",
      "▁a\t-2\n",
      "▁is\t-3\n",
      "It\t-4\n",
      "Th\t-5\n",
      "am\t-6\n",
      "ce\t-7\n",
      "es\t-8\n",
      "ex\t-9\n",
      "le\t-10\n",
      "▁s\t-11\n",
      "▁t\t-12\n",
      "amp\t-13\n",
      "ent\t-14\n",
      "est\t-15\n",
      "▁It\t-16\n",
      "▁Th\t-17\n",
      "▁ex\t-18\n",
      "ence\t-19\n",
      "ample\t-20\n",
      "▁\t-21\n",
      "e\t-22\n",
      "s\t-23\n",
      "t\t-24\n",
      "a\t-25\n",
      "i\t-26\n",
      ".\t-27\n",
      "n\t-28\n",
      "I\t-29\n",
      "T\t-30\n",
      "c\t-31\n",
      "h\t-32\n",
      "l\t-33\n",
      "m\t-34\n",
      "p\t-35\n",
      "x\t-36\n",
      "\n"
     ]
    }
   ],
   "source": [
    "vocab = open(\"sentence_piece.vocab\", \"r\").read()\n",
    "print(vocab)"
   ]
  },
  {
   "cell_type": "code",
   "execution_count": 5,
   "metadata": {},
   "outputs": [
    {
     "data": {
      "text/plain": [
       "True"
      ]
     },
     "execution_count": 5,
     "metadata": {},
     "output_type": "execute_result"
    }
   ],
   "source": [
    "model = spm.SentencePieceProcessor()\n",
    "model.Load(\"sentence_piece.model\")"
   ]
  },
  {
   "cell_type": "code",
   "execution_count": 6,
   "metadata": {},
   "outputs": [
    {
     "name": "stdout",
     "output_type": "stream",
     "text": [
      "['▁Th', 'is', '▁is', '▁a', '▁t', 'est', '▁s', 'ent', 'ence', '.', '▁It', '▁is', '▁a', '▁ex', 'ample', '.']\n",
      "[20, 3, 6, 5, 15, 18, 14, 17, 22, 30, 19, 6, 5, 21, 23, 30]\n"
     ]
    }
   ],
   "source": [
    "inputs = open(\"./data/sample.txt\", \"r\").read()\n",
    "pieces = model.EncodeAsPieces(inputs)\n",
    "ids = model.EncodeAsIds(inputs)\n",
    "print(pieces)\n",
    "print(ids)"
   ]
  },
  {
   "cell_type": "code",
   "execution_count": 7,
   "metadata": {},
   "outputs": [
    {
     "name": "stdout",
     "output_type": "stream",
     "text": [
      "This is a test sentence. It is a example.\n",
      "This is a test sentence. It is a example.\n"
     ]
    }
   ],
   "source": [
    "print(model.DecodePieces(pieces))\n",
    "print(model.DecodeIds(ids))"
   ]
  },
  {
   "cell_type": "code",
   "execution_count": 8,
   "metadata": {},
   "outputs": [
    {
     "data": {
      "text/plain": [
       "'▁'"
      ]
     },
     "execution_count": 8,
     "metadata": {},
     "output_type": "execute_result"
    }
   ],
   "source": [
    "b\"\\xe2\\x96\\x81\".decode(\"utf-8\")"
   ]
  },
  {
   "cell_type": "code",
   "execution_count": 11,
   "metadata": {},
   "outputs": [
    {
     "data": {
      "text/plain": [
       "'this is a test sentence.'"
      ]
     },
     "execution_count": 11,
     "metadata": {},
     "output_type": "execute_result"
    }
   ],
   "source": [
    "model.DecodePieces(model.EncodeAsPieces(\"this is a test sentence.\"))"
   ]
  },
  {
   "cell_type": "code",
   "execution_count": 12,
   "metadata": {},
   "outputs": [
    {
     "data": {
      "text/plain": [
       "'this is a test sentence .'"
      ]
     },
     "execution_count": 12,
     "metadata": {},
     "output_type": "execute_result"
    }
   ],
   "source": [
    "model.DecodePieces(model.EncodeAsPieces(\"this is a test sentence .\"))"
   ]
  },
  {
   "cell_type": "code",
   "execution_count": null,
   "metadata": {},
   "outputs": [],
   "source": []
  }
 ],
 "metadata": {
  "kernelspec": {
   "display_name": "Python 3",
   "language": "python",
   "name": "python3"
  },
  "language_info": {
   "codemirror_mode": {
    "name": "ipython",
    "version": 3
   },
   "file_extension": ".py",
   "mimetype": "text/x-python",
   "name": "python",
   "nbconvert_exporter": "python",
   "pygments_lexer": "ipython3",
   "version": "3.6.10"
  }
 },
 "nbformat": 4,
 "nbformat_minor": 2
}
