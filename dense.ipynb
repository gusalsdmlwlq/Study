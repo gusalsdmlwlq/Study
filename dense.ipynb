{
 "cells": [
  {
   "cell_type": "code",
   "execution_count": 1,
   "metadata": {},
   "outputs": [],
   "source": [
    "import tensorflow as tf"
   ]
  },
  {
   "cell_type": "code",
   "execution_count": 12,
   "metadata": {},
   "outputs": [
    {
     "name": "stdout",
     "output_type": "stream",
     "text": [
      "0.039105546\n"
     ]
    }
   ],
   "source": [
    "x = tf.random_normal(shape=[1000])\n",
    "with tf.Session() as sess:\n",
    "    print(tf.reduce_mean(x).eval())"
   ]
  },
  {
   "cell_type": "code",
   "execution_count": 38,
   "metadata": {},
   "outputs": [
    {
     "name": "stdout",
     "output_type": "stream",
     "text": [
      "[[ 1.0615404  -1.1010092  -0.6201155  -0.13284545 -0.72726184 -0.74165\n",
      "   0.39026952  0.42741868 -1.7638233  -1.5197575  -0.11296666  0.28181326\n",
      "  -0.18206224 -1.2781969  -0.7760326   0.42673478  1.9641671  -1.0323434\n",
      "  -0.5155932  -1.5554093 ]]\n",
      "[[ 0.11998683 -0.5753474  -1.0477406   0.11418985  0.8303393   0.48975947\n",
      "   0.14567429  1.528068    0.01314923 -1.705693  ]]\n"
     ]
    }
   ],
   "source": [
    "x = tf.random_normal(shape=[1,20])\n",
    "logits = tf.layers.dense(inputs=x,units=10)\n",
    "with tf.Session() as sess:\n",
    "    tf.global_variables_initializer().run()\n",
    "    print(x.eval())\n",
    "    print(logits.eval())"
   ]
  },
  {
   "cell_type": "code",
   "execution_count": 70,
   "metadata": {},
   "outputs": [
    {
     "name": "stdout",
     "output_type": "stream",
     "text": [
      "[1 1 1 2 2 2 3 3 3 4 4 4 2 2 2 2 2 2 3 3 3 4 4 4 3 3 3 2 2 2 3 3 3 4 4 4]\n"
     ]
    }
   ],
   "source": [
    "x = [\n",
    "    [[1,1,1],[2,2,2],[3,3,3],[4,4,4]],\n",
    "    [[2,2,2],[2,2,2],[3,3,3],[4,4,4]],\n",
    "    [[3,3,3],[2,2,2],[3,3,3],[4,4,4]]\n",
    "]\n",
    "x = tf.constant(x)\n",
    "flat = tf.reshape(x,[-1])\n",
    "with tf.Session() as sess:\n",
    "    print(flat.eval())"
   ]
  },
  {
   "cell_type": "code",
   "execution_count": 4,
   "metadata": {},
   "outputs": [
    {
     "name": "stdout",
     "output_type": "stream",
     "text": [
      "[[[-0.72385186 -0.15721282 -0.6690165   0.9466805   0.7351912 ]\n",
      "  [ 0.0269391  -0.33638147  0.8433796  -0.9656465  -0.02059385]\n",
      "  [-0.5875402  -0.2383822   0.13429902  0.39443013 -0.3442715 ]]\n",
      "\n",
      " [[-0.32181597  0.40183473  0.10974472  0.05467901 -0.30301556]\n",
      "  [ 0.49757424 -0.34977448 -0.18670985  0.412724    0.56845194]\n",
      "  [ 0.70501363 -0.7909456  -0.230274   -0.19858578  0.38688168]]]\n"
     ]
    }
   ],
   "source": [
    "x = tf.random_normal(shape=[2,3,3])\n",
    "cell = tf.contrib.rnn.BasicRNNCell(num_units=5,name=\"ss\",reuse=True)\n",
    "output,state= tf.nn.dynamic_rnn(cell,x,dtype=tf.float32)\n",
    "with tf.Session() as sess:\n",
    "    tf.global_variables_initializer().run()\n",
    "    sess.run([output])\n",
    "    print(output.eval())\n",
    "    #print(state.eval())"
   ]
  },
  {
   "cell_type": "code",
   "execution_count": null,
   "metadata": {},
   "outputs": [],
   "source": []
  }
 ],
 "metadata": {
  "kernelspec": {
   "display_name": "Python 3",
   "language": "python",
   "name": "python3"
  },
  "language_info": {
   "codemirror_mode": {
    "name": "ipython",
    "version": 3
   },
   "file_extension": ".py",
   "mimetype": "text/x-python",
   "name": "python",
   "nbconvert_exporter": "python",
   "pygments_lexer": "ipython3",
   "version": "3.6.7"
  }
 },
 "nbformat": 4,
 "nbformat_minor": 2
}
