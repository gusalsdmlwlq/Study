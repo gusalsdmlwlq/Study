{
 "cells": [
  {
   "cell_type": "code",
   "execution_count": 1,
   "metadata": {},
   "outputs": [],
   "source": [
    "import tensorflow as tf\n",
    "import numpy as np"
   ]
  },
  {
   "cell_type": "code",
   "execution_count": 31,
   "metadata": {},
   "outputs": [],
   "source": [
    "batch_size = 32\n",
    "intput_size = 300\n",
    "layers = 3\n",
    "max_length = 100\n",
    "classes = 2\n",
    "hidden_units = 128"
   ]
  },
  {
   "cell_type": "code",
   "execution_count": 41,
   "metadata": {},
   "outputs": [],
   "source": [
    "tf.reset_default_graph()\n",
    "\n",
    "X = tf.placeholder(dtype=tf.float32, shape=[None, max_length, intput_size])\n",
    "Y = tf.placeholder(dtype=tf.float32, shape=[None, classes])\n",
    "\n",
    "lstm_cell = tf.nn.rnn_cell.LSTMCell(hidden_units)\n",
    "\n",
    "outputs, states = tf.nn.dynamic_rnn(lstm_cell, X, dtype=tf.float32)\n",
    "\n",
    "W = tf.get_variable(\"W\", shape=[hidden_units, classes], initializer=tf.contrib.layers.xavier_initializer())\n",
    "b = tf.get_variable(\"b\", shape=[classes], initializer=tf.zeros_initializer())\n",
    "\n",
    "output = outputs[:,-1]\n",
    "output = tf.matmul(output, W) + b"
   ]
  },
  {
   "cell_type": "code",
   "execution_count": 42,
   "metadata": {},
   "outputs": [
    {
     "data": {
      "text/plain": [
       "(32, 2)"
      ]
     },
     "execution_count": 42,
     "metadata": {},
     "output_type": "execute_result"
    }
   ],
   "source": [
    "x = np.random.normal(size=(batch_size, max_length, intput_size))\n",
    "sess = tf.Session()\n",
    "sess.run(tf.global_variables_initializer())\n",
    "sess.run(output, feed_dict={X: x}).shape"
   ]
  },
  {
   "cell_type": "code",
   "execution_count": 43,
   "metadata": {},
   "outputs": [],
   "source": [
    "tf.reset_default_graph()\n",
    "\n",
    "X = tf.placeholder(dtype=tf.float32, shape=[None, max_length, intput_size])\n",
    "Y = tf.placeholder(dtype=tf.float32, shape=[None, classes])\n",
    "\n",
    "lstm_stack = []\n",
    "for i in range(layers):\n",
    "    lstm_cell = tf.nn.rnn_cell.LSTMCell(hidden_units)\n",
    "    lstm_stack.append(lstm_cell)\n",
    "lstm_cell = tf.nn.rnn_cell.MultiRNNCell(lstm_stack)\n",
    "\n",
    "outputs, states = tf.nn.dynamic_rnn(lstm_cell, X, dtype=tf.float32)\n",
    "\n",
    "W = tf.get_variable(\"W\", shape=[hidden_units, classes], initializer=tf.contrib.layers.xavier_initializer())\n",
    "b = tf.get_variable(\"b\", shape=[classes], initializer=tf.zeros_initializer())\n",
    "\n",
    "output = outputs[:,-1]\n",
    "output = tf.matmul(output, W) + b"
   ]
  },
  {
   "cell_type": "code",
   "execution_count": 44,
   "metadata": {},
   "outputs": [
    {
     "data": {
      "text/plain": [
       "(32, 2)"
      ]
     },
     "execution_count": 44,
     "metadata": {},
     "output_type": "execute_result"
    }
   ],
   "source": [
    "x = np.random.normal(size=(batch_size, max_length, intput_size))\n",
    "sess = tf.Session()\n",
    "sess.run(tf.global_variables_initializer())\n",
    "sess.run(output, feed_dict={X: x}).shape"
   ]
  },
  {
   "cell_type": "code",
   "execution_count": 45,
   "metadata": {},
   "outputs": [],
   "source": [
    "tf.reset_default_graph()\n",
    "\n",
    "X = tf.placeholder(dtype=tf.float32, shape=[None, max_length, intput_size])\n",
    "Y = tf.placeholder(dtype=tf.float32, shape=[None, classes])\n",
    "\n",
    "fw_lstm_cell = tf.nn.rnn_cell.LSTMCell(hidden_units)\n",
    "bw_lstm_cell = tf.nn.rnn_cell.LSTMCell(hidden_units)\n",
    "\n",
    "outputs, states = tf.nn.bidirectional_dynamic_rnn(fw_lstm_cell, bw_lstm_cell, X, dtype=tf.float32)\n",
    "\n",
    "W = tf.get_variable(\"W\", shape=[hidden_units*2, classes], initializer=tf.contrib.layers.xavier_initializer())\n",
    "b = tf.get_variable(\"b\", shape=[classes], initializer=tf.zeros_initializer())\n",
    "\n",
    "fw_output = outputs[0][:,-1]\n",
    "bw_output = outputs[1][:,0]\n",
    "output = tf.concat([fw_output, bw_output], axis=1)\n",
    "output = tf.matmul(output, W) + b"
   ]
  },
  {
   "cell_type": "code",
   "execution_count": 46,
   "metadata": {},
   "outputs": [
    {
     "data": {
      "text/plain": [
       "(32, 2)"
      ]
     },
     "execution_count": 46,
     "metadata": {},
     "output_type": "execute_result"
    }
   ],
   "source": [
    "x = np.random.normal(size=(batch_size, max_length, intput_size))\n",
    "sess = tf.Session()\n",
    "sess.run(tf.global_variables_initializer())\n",
    "sess.run(output, feed_dict={X: x}).shape"
   ]
  },
  {
   "cell_type": "code",
   "execution_count": 47,
   "metadata": {},
   "outputs": [],
   "source": [
    "tf.reset_default_graph()\n",
    "\n",
    "X = tf.placeholder(dtype=tf.float32, shape=[None, max_length, intput_size])\n",
    "Y = tf.placeholder(dtype=tf.float32, shape=[None, classes])\n",
    "\n",
    "fw_lstm_stack = []\n",
    "for i in range(layers):\n",
    "    fw_lstm_cell = tf.nn.rnn_cell.LSTMCell(hidden_units)\n",
    "    fw_lstm_stack.append(fw_lstm_cell)\n",
    "fw_lstm_cell = tf.nn.rnn_cell.MultiRNNCell(fw_lstm_stack)\n",
    "bw_lstm_stack = []\n",
    "for i in range(layers):\n",
    "    bw_lstm_cell = tf.nn.rnn_cell.LSTMCell(hidden_units)\n",
    "    bw_lstm_stack.append(bw_lstm_cell)\n",
    "bw_lstm_cell = tf.nn.rnn_cell.MultiRNNCell(bw_lstm_stack)\n",
    "\n",
    "outputs, states = tf.nn.bidirectional_dynamic_rnn(fw_lstm_cell, bw_lstm_cell, X, dtype=tf.float32)\n",
    "\n",
    "W = tf.get_variable(\"W\", shape=[hidden_units*2, classes], initializer=tf.contrib.layers.xavier_initializer())\n",
    "b = tf.get_variable(\"b\", shape=[classes], initializer=tf.zeros_initializer())\n",
    "\n",
    "fw_output = outputs[0][:,-1]\n",
    "bw_output = outputs[1][:,0]\n",
    "output = tf.concat([fw_output, bw_output], axis=1)\n",
    "output = tf.matmul(output, W) + b"
   ]
  },
  {
   "cell_type": "code",
   "execution_count": 48,
   "metadata": {},
   "outputs": [
    {
     "data": {
      "text/plain": [
       "(32, 2)"
      ]
     },
     "execution_count": 48,
     "metadata": {},
     "output_type": "execute_result"
    }
   ],
   "source": [
    "x = np.random.normal(size=(batch_size, max_length, intput_size))\n",
    "sess = tf.Session()\n",
    "sess.run(tf.global_variables_initializer())\n",
    "sess.run(output, feed_dict={X: x}).shape"
   ]
  },
  {
   "cell_type": "code",
   "execution_count": null,
   "metadata": {},
   "outputs": [],
   "source": []
  }
 ],
 "metadata": {
  "kernelspec": {
   "display_name": "Python 3",
   "language": "python",
   "name": "python3"
  },
  "language_info": {
   "codemirror_mode": {
    "name": "ipython",
    "version": 3
   },
   "file_extension": ".py",
   "mimetype": "text/x-python",
   "name": "python",
   "nbconvert_exporter": "python",
   "pygments_lexer": "ipython3",
   "version": "3.6.7"
  }
 },
 "nbformat": 4,
 "nbformat_minor": 2
}
