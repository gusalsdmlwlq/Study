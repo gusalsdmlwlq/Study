{
 "cells": [
  {
   "cell_type": "code",
   "execution_count": 8,
   "metadata": {},
   "outputs": [],
   "source": [
    "\"\"\"\n",
    "\n",
    "Copyright 2017- IBM Corporation\n",
    "\n",
    "Licensed under the Apache License, Version 2.0 (the \"License\");\n",
    "you may not use this file except in compliance with the License.\n",
    "You may obtain a copy of the License at\n",
    "\n",
    "      http://www.apache.org/licenses/LICENSE-2.0\n",
    "\n",
    "Unless required by applicable law or agreed to in writing, software\n",
    "distributed under the License is distributed on an \"AS IS\" BASIS,\n",
    "WITHOUT WARRANTIES OR CONDITIONS OF ANY KIND, either express or implied.\n",
    "See the License for the specific language governing permissions and\n",
    "limitations under the License.\n",
    "\n",
    "\"\"\"\n",
    "\n",
    "\n",
    "\"\"\" A base class for RNN. \"\"\"\n",
    "import torch.nn as nn\n",
    "\n",
    "\n",
    "class BaseRNN(nn.Module):\n",
    "    r\"\"\"\n",
    "    Applies a multi-layer RNN to an input sequence.\n",
    "    Note:\n",
    "        Do not use this class directly, use one of the sub classes.\n",
    "    Args:\n",
    "        vocab_size (int): size of the vocabulary\n",
    "        max_len (int): maximum allowed length for the sequence to be processed\n",
    "        hidden_size (int): number of features in the hidden state `h`\n",
    "        input_dropout_p (float): dropout probability for the input sequence\n",
    "        dropout_p (float): dropout probability for the output sequence\n",
    "        n_layers (int): number of recurrent layers\n",
    "        rnn_cell (str): type of RNN cell (Eg. 'LSTM' , 'GRU')\n",
    "\n",
    "    Inputs: ``*args``, ``**kwargs``\n",
    "        - ``*args``: variable length argument list.\n",
    "        - ``**kwargs``: arbitrary keyword arguments.\n",
    "\n",
    "    Attributes:\n",
    "        SYM_MASK: masking symbol\n",
    "        SYM_EOS: end-of-sequence symbol\n",
    "    \"\"\"\n",
    "    SYM_MASK = \"MASK\"\n",
    "    SYM_EOS = \"EOS\"\n",
    "\n",
    "    def __init__(self, vocab_size, max_len, hidden_size, input_dropout_p, dropout_p, n_layers, rnn_cell):\n",
    "        super(BaseRNN, self).__init__()\n",
    "        self.vocab_size = vocab_size\n",
    "        self.max_len = max_len\n",
    "        self.hidden_size = hidden_size\n",
    "        self.n_layers = n_layers\n",
    "        self.input_dropout_p = input_dropout_p\n",
    "        self.input_dropout = nn.Dropout(p=input_dropout_p)\n",
    "        if rnn_cell.lower() == 'lstm':\n",
    "            self.rnn_cell = nn.LSTM\n",
    "        elif rnn_cell.lower() == 'gru':\n",
    "            self.rnn_cell = nn.GRU\n",
    "        else:\n",
    "            raise ValueError(\"Unsupported RNN Cell: {0}\".format(rnn_cell))\n",
    "\n",
    "        self.dropout_p = dropout_p\n",
    "\n",
    "    def forward(self, *args, **kwargs):\n",
    "        raise NotImplementedError()\n"
   ]
  },
  {
   "cell_type": "code",
   "execution_count": 9,
   "metadata": {},
   "outputs": [],
   "source": [
    "\"\"\"\n",
    "\n",
    "Copyright 2017- IBM Corporation\n",
    "\n",
    "Licensed under the Apache License, Version 2.0 (the \"License\");\n",
    "you may not use this file except in compliance with the License.\n",
    "You may obtain a copy of the License at\n",
    "\n",
    "      http://www.apache.org/licenses/LICENSE-2.0\n",
    "\n",
    "Unless required by applicable law or agreed to in writing, software\n",
    "distributed under the License is distributed on an \"AS IS\" BASIS,\n",
    "WITHOUT WARRANTIES OR CONDITIONS OF ANY KIND, either express or implied.\n",
    "See the License for the specific language governing permissions and\n",
    "limitations under the License.\n",
    "\n",
    "\"\"\"\n",
    "\n",
    "import sys\n",
    "import math\n",
    "import torch.nn as nn\n",
    "\n",
    "\n",
    "class CTCRNN(BaseRNN):\n",
    "    r\"\"\"\n",
    "    Applies a multi-layer RNN to an input sequence.\n",
    "\n",
    "    Args:\n",
    "        vocab_size (int): size of the vocabulary\n",
    "        max_len (int): a maximum allowed length for the sequence to be processed\n",
    "        hidden_size (int): the number of features in the hidden state `h`\n",
    "        input_dropout_p (float, optional): dropout probability for the input sequence (default: 0)\n",
    "        dropout_p (float, optional): dropout probability for the output sequence (default: 0)\n",
    "        n_layers (int, optional): number of recurrent layers (default: 1)\n",
    "        bidirectional (bool, optional): if True, becomes a bidirectional encodr (defulat False)\n",
    "        rnn_cell (str, optional): type of RNN cell (default: gru)\n",
    "        variable_lengths (bool, optional): if use variable length RNN (default: False)\n",
    "        embedding (torch.Tensor, optional): Pre-trained embedding.  The size of the tensor has to match\n",
    "            the size of the embedding parameter: (vocab_size, hidden_size).  The embedding layer would be initialized\n",
    "            with the tensor if provided (default: None).\n",
    "        update_embedding (bool, optional): If the embedding should be updated during training (default: False).\n",
    "\n",
    "    Inputs: inputs, input_lengths\n",
    "        - **inputs**: list of sequences, whose length is the batch size and within which each sequence is a list of token IDs.\n",
    "        - **input_lengths** (list of int, optional): list that contains the lengths of sequences\n",
    "            in the mini-batch, it must be provided when using variable length RNN (default: `None`)\n",
    "\n",
    "    Outputs: output, hidden\n",
    "        - **output** (batch, seq_len, hidden_size): tensor containing the encoded features of the input sequence\n",
    "        - **hidden** (num_layers * num_directions, batch, hidden_size): tensor containing the features in the hidden state `h`\n",
    "\n",
    "    Examples::\n",
    "\n",
    "         >>> encoder = EncoderRNN(input_vocab, max_seq_length, hidden_size)\n",
    "         >>> output, hidden = encoder(input)\n",
    "\n",
    "    \"\"\"\n",
    "\n",
    "    def __init__(self, feature_size, hidden_size,\n",
    "                 input_dropout_p=0, dropout_p=0,\n",
    "                 n_layers=1, bidirectional=False, rnn_cell='lstm', variable_lengths=False):\n",
    "        super(CTCRNN, self).__init__(0, 0, hidden_size,\n",
    "                input_dropout_p, dropout_p, n_layers, rnn_cell)\n",
    "\n",
    "        self.variable_lengths = variable_lengths\n",
    "        \n",
    "\n",
    "        \"\"\"\n",
    "        Copied from https://github.com/SeanNaren/deepspeech.pytorch/blob/master/model.py\n",
    "        Copyright (c) 2017 Sean Naren\n",
    "        MIT License\n",
    "        \"\"\"\n",
    "#         self.conv = nn.Sequential(\n",
    "#             nn.Conv2d(1, 32, kernel_size=(41, 11), stride=(2, 2), padding=(20, 5)),\n",
    "#             nn.BatchNorm2d(32),\n",
    "# #             nn.ReLU(inplace=True),\n",
    "#             nn.Hardtanh(0, 20, inplace=True),\n",
    "#             nn.Conv2d(32, 32, kernel_size=(21, 11), stride=(2, 1), padding=(10, 5)),\n",
    "#             nn.BatchNorm2d(32),\n",
    "#             nn.Hardtanh(0, 20, inplace=True)\n",
    "# #             nn.ReLU(inplace=True)\n",
    "#         )\n",
    "\n",
    "#         feature_size = math.ceil((feature_size - 11 + 1 + (5*2)) / 2)\n",
    "#         feature_size = math.ceil(feature_size - 11 + 1 + (5*2))\n",
    "#         feature_size *= 32\n",
    "        feature_size = int(feature_size)\n",
    "        self.rnn = self.rnn_cell(feature_size, hidden_size, n_layers,\n",
    "                                 batch_first=True, bidirectional=bidirectional, dropout=dropout_p)\n",
    "    \n",
    "    def forward(self, input_var, input_lengths=None, target_variable=None):\n",
    "        \"\"\"\n",
    "        Applies a multi-layer RNN to an input sequence.\n",
    "\n",
    "        Args:\n",
    "            input_var (batch, seq_len): tensor containing the features of the input sequence.\n",
    "            input_lengths (list of int, optional): A list that contains the lengths of sequences\n",
    "              in the mini-batch\n",
    "\n",
    "        Returns: output, hidden\n",
    "            - **output** (batch, seq_len, hidden_size): variable containing the encoded features of the input sequence\n",
    "            - **hidden** (num_layers * num_directions, batch, hidden_size): variable containing the features in the hidden state h\n",
    "        \"\"\"\n",
    "        \n",
    "#         input_var = input_var.unsqueeze(1)\n",
    "#         x = self.conv(input_var)\n",
    "        # BxCxTxD => BxCxDxT\n",
    "#         x = x.transpose(1, 2)\n",
    "#         x = x.contiguous()\n",
    "#         sizes = x.size()\n",
    "#         x = x.view(sizes[0], sizes[1], sizes[2] * sizes[3])\n",
    "        print(\"shape:{}\".format(input_var.shape))\n",
    "        if self.training:\n",
    "            self.rnn.flatten_parameters()\n",
    "        \n",
    "        output, hidden = self.rnn(x,batch_first=True)\n",
    "        return output, hidden\n",
    "    def flatten_parameters(self):\n",
    "        self.rnn.flatten_parameters()\n"
   ]
  },
  {
   "cell_type": "code",
   "execution_count": 32,
   "metadata": {},
   "outputs": [],
   "source": [
    "import torch"
   ]
  },
  {
   "cell_type": "code",
   "execution_count": null,
   "metadata": {},
   "outputs": [],
   "source": [
    "torch.stack()"
   ]
  },
  {
   "cell_type": "code",
   "execution_count": 18,
   "metadata": {},
   "outputs": [],
   "source": [
    "x = 1\n",
    "y = [x]*10"
   ]
  },
  {
   "cell_type": "code",
   "execution_count": 22,
   "metadata": {},
   "outputs": [],
   "source": [
    "y = [1, 2, 3, 4]"
   ]
  },
  {
   "cell_type": "code",
   "execution_count": 25,
   "metadata": {},
   "outputs": [],
   "source": [
    "import tensorflow as tf"
   ]
  },
  {
   "cell_type": "code",
   "execution_count": 29,
   "metadata": {},
   "outputs": [],
   "source": [
    "batch = 4\n",
    "vocab = 820"
   ]
  },
  {
   "cell_type": "code",
   "execution_count": 31,
   "metadata": {},
   "outputs": [],
   "source": [
    "inputs = tf.placeholder(dtype=tf.float32, shape=(None,None,vocab))\n",
    "sequence_length = tf.placeholder(dtype=tf.int32, shape=(batch))\n",
    "decoded,log_probs = tf.nn.ctc_beam_search_decoder(inputs=inputs, sequence_length=sequence_length)\n",
    "sess = tf.Session()"
   ]
  },
  {
   "cell_type": "code",
   "execution_count": 34,
   "metadata": {},
   "outputs": [],
   "source": [
    "import numpy as np"
   ]
  },
  {
   "cell_type": "code",
   "execution_count": 47,
   "metadata": {},
   "outputs": [],
   "source": [
    "x = np.zeros(shape=10)"
   ]
  },
  {
   "cell_type": "code",
   "execution_count": 48,
   "metadata": {},
   "outputs": [
    {
     "data": {
      "text/plain": [
       "array([0., 0., 0., 0., 0., 0., 0., 0., 0., 0.])"
      ]
     },
     "execution_count": 48,
     "metadata": {},
     "output_type": "execute_result"
    }
   ],
   "source": [
    "x"
   ]
  },
  {
   "cell_type": "code",
   "execution_count": 49,
   "metadata": {},
   "outputs": [],
   "source": [
    "y = [1,2,3,4]"
   ]
  },
  {
   "cell_type": "code",
   "execution_count": 50,
   "metadata": {},
   "outputs": [],
   "source": [
    "x[:4] = np.array(y)"
   ]
  },
  {
   "cell_type": "code",
   "execution_count": 51,
   "metadata": {},
   "outputs": [
    {
     "data": {
      "text/plain": [
       "array([1., 2., 3., 4., 0., 0., 0., 0., 0., 0.])"
      ]
     },
     "execution_count": 51,
     "metadata": {},
     "output_type": "execute_result"
    }
   ],
   "source": [
    "x"
   ]
  },
  {
   "cell_type": "code",
   "execution_count": null,
   "metadata": {},
   "outputs": [],
   "source": []
  }
 ],
 "metadata": {
  "kernelspec": {
   "display_name": "Python 3",
   "language": "python",
   "name": "python3"
  },
  "language_info": {
   "codemirror_mode": {
    "name": "ipython",
    "version": 3
   },
   "file_extension": ".py",
   "mimetype": "text/x-python",
   "name": "python",
   "nbconvert_exporter": "python",
   "pygments_lexer": "ipython3",
   "version": "3.6.9"
  }
 },
 "nbformat": 4,
 "nbformat_minor": 2
}
