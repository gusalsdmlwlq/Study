{
 "cells": [
  {
   "cell_type": "code",
   "execution_count": 1,
   "metadata": {},
   "outputs": [],
   "source": [
    "import wave\n",
    "import numpy as np\n",
    "import torch\n",
    "from matplotlib import pyplot as plt\n",
    "import glob\n",
    "import torchaudio\n",
    "\n",
    "N_FFT = 512\n",
    "SAMPLE_RATE = 16000\n",
    "\n",
    "def _wav2array(nchannels, sampwidth, data):\n",
    "    \"\"\"data must be the string containing the bytes from the wav file.\"\"\"\n",
    "    num_samples, remainder = divmod(len(data), sampwidth * nchannels)\n",
    "    if remainder > 0:\n",
    "        raise ValueError('The length of data is not a multiple of '\n",
    "                         'sampwidth * num_channels.')\n",
    "    if sampwidth > 4:\n",
    "        raise ValueError(\"sampwidth must not be greater than 4.\")\n",
    "\n",
    "    if sampwidth == 3:\n",
    "        a = np.empty((num_samples, nchannels, 4), dtype=np.uint8)\n",
    "        raw_bytes = np.fromstring(data, dtype=np.uint8)\n",
    "        a[:, :, :sampwidth] = raw_bytes.reshape(-1, nchannels, sampwidth)\n",
    "        a[:, :, sampwidth:] = (a[:, :, sampwidth - 1:sampwidth] >> 7) * 255\n",
    "        result = a.view('<i4').reshape(a.shape[:-1])\n",
    "    else:\n",
    "        # 8 bit samples are stored as unsigned ints; others as signed ints.\n",
    "        dt_char = 'u' if sampwidth == 1 else 'i'\n",
    "        a = np.fromstring(data, dtype='<%s%d' % (dt_char, sampwidth))\n",
    "        result = a.reshape(-1, nchannels)\n",
    "    return result\n",
    "def readwav(file):\n",
    "    \"\"\"\n",
    "    Read a wav file.\n",
    "    Returns the frame rate, sample width (in bytes) and a numpy array\n",
    "    containing the data.\n",
    "    This function does not read compressed wav files.\n",
    "    \"\"\"\n",
    "    wav = wave.open(file)\n",
    "    rate = wav.getframerate()\n",
    "    nchannels = wav.getnchannels()\n",
    "    sampwidth = wav.getsampwidth()\n",
    "    nframes = wav.getnframes()\n",
    "    data = wav.readframes(nframes)\n",
    "    wav.close()\n",
    "    array = _wav2array(nchannels, sampwidth, data)\n",
    "    return rate, sampwidth, array"
   ]
  },
  {
   "cell_type": "code",
   "execution_count": 2,
   "metadata": {},
   "outputs": [],
   "source": [
    "data = glob.glob(\"data/train/*.wav\")"
   ]
  },
  {
   "cell_type": "code",
   "execution_count": 6,
   "metadata": {},
   "outputs": [
    {
     "name": "stderr",
     "output_type": "stream",
     "text": [
      "/home/jhm9507/anaconda3/envs/jhm/lib/python3.6/site-packages/ipykernel_launcher.py:29: DeprecationWarning: The binary mode of fromstring is deprecated, as it behaves surprisingly on unicode inputs. Use frombuffer instead\n"
     ]
    }
   ],
   "source": [
    "datas = []\n",
    "for i in data:\n",
    "    rate, width, sig = readwav(i)\n",
    "    sig = sig.ravel()\n",
    "    datas.append(sig)"
   ]
  },
  {
   "cell_type": "code",
   "execution_count": 8,
   "metadata": {},
   "outputs": [
    {
     "data": {
      "text/plain": [
       "[<matplotlib.lines.Line2D at 0x7f43e6ee0438>]"
      ]
     },
     "execution_count": 8,
     "metadata": {},
     "output_type": "execute_result"
    },
    {
     "data": {
      "image/png": "[encoded data removed]",
      "text/plain": [
       "<Figure size 432x288 with 1 Axes>"
      ]
     },
     "metadata": {
      "needs_background": "light"
     },
     "output_type": "display_data"
    }
   ],
   "source": [
    "plt.plot(datas[76])"
   ]
  },
  {
   "cell_type": "code",
   "execution_count": 11,
   "metadata": {},
   "outputs": [],
   "source": [
    "test = torch.stft(torch.FloatTensor(datas[76]),\n",
    "                        N_FFT,\n",
    "                        hop_length=int(0.01*SAMPLE_RATE),\n",
    "                        win_length=int(0.030*SAMPLE_RATE),\n",
    "                        window=torch.hamming_window(int(0.030*SAMPLE_RATE)),\n",
    "                        center=False,\n",
    "                        normalized=False,\n",
    "                        onesided=True)"
   ]
  },
  {
   "cell_type": "code",
   "execution_count": 12,
   "metadata": {},
   "outputs": [
    {
     "data": {
      "text/plain": [
       "torch.Size([257, 2997, 2])"
      ]
     },
     "execution_count": 12,
     "metadata": {},
     "output_type": "execute_result"
    }
   ],
   "source": [
    "test.shape"
   ]
  },
  {
   "cell_type": "code",
   "execution_count": 13,
   "metadata": {},
   "outputs": [],
   "source": [
    "def cut_sig(sig):\n",
    "    start = 0\n",
    "    end = len(sig)-1\n",
    "    for hz in sig:\n",
    "        if hz < 200:\n",
    "            start += 1\n",
    "        else:\n",
    "            break\n",
    "    for hz in sig[::-1]:\n",
    "        if hz < 200:\n",
    "            end -= 1\n",
    "        else:\n",
    "            break\n",
    "    return sig[start:end]"
   ]
  },
  {
   "cell_type": "code",
   "execution_count": 15,
   "metadata": {},
   "outputs": [],
   "source": [
    "def get_spectrogram_feature(filepath):\n",
    "#     (rate, width, sig) = readwav(filepath)\n",
    "#     sig = sig.ravel()\n",
    "    sig = filepath\n",
    "#     sig = cut_sig(sig)\n",
    "    plt.plot(sig)\n",
    "    print(np.max(sig), np.min(sig), np.mean(sig))\n",
    "    stft = torch.stft(torch.FloatTensor(sig),\n",
    "                        N_FFT,\n",
    "                        hop_length=int(0.01*SAMPLE_RATE),\n",
    "                        win_length=int(0.030*SAMPLE_RATE),\n",
    "                        window=torch.hamming_window(int(0.030*SAMPLE_RATE)),\n",
    "                        center=False,\n",
    "                        normalized=False,\n",
    "                        onesided=True)\n",
    "    stft = (stft[:,:,0].pow(2) + stft[:,:,1].pow(2)).pow(0.5);\n",
    "    amag = stft.numpy();\n",
    "    print(amag.shape)\n",
    "    print(np.max(amag),np.min(amag),np.mean(amag))\n",
    "    feat = torch.FloatTensor(amag)\n",
    "    feat = torch.FloatTensor(feat).transpose(0, 1)\n",
    "\n",
    "    return feat"
   ]
  },
  {
   "cell_type": "code",
   "execution_count": 47,
   "metadata": {},
   "outputs": [
    {
     "name": "stdout",
     "output_type": "stream",
     "text": [
      "25973 -22224 0.92675625\n",
      "(257, 2997)\n",
      "976323.2 0.0 925.7873\n"
     ]
    },
    {
     "data": {
      "image/png": "[encoded data removed]",
      "text/plain": [
       "<Figure size 432x288 with 1 Axes>"
      ]
     },
     "metadata": {
      "needs_background": "light"
     },
     "output_type": "display_data"
    }
   ],
   "source": [
    "test = get_spectrogram_feature(datas[76])"
   ]
  },
  {
   "cell_type": "code",
   "execution_count": 54,
   "metadata": {},
   "outputs": [
    {
     "data": {
      "text/plain": [
       "[<matplotlib.lines.Line2D at 0x7f43fbe5fbe0>]"
      ]
     },
     "execution_count": 54,
     "metadata": {},
     "output_type": "execute_result"
    },
    {
     "data": {
      "image/png": "[encoded data removed]",
      "text/plain": [
       "<Figure size 432x288 with 1 Axes>"
      ]
     },
     "metadata": {
      "needs_background": "light"
     },
     "output_type": "display_data"
    }
   ],
   "source": [
    "noise = np.random.normal(scale=100.0,size=len(datas[76]))\n",
    "noised = datas[76]+noise\n",
    "plt.plot(noised[200000:210000])\n",
    "plt.plot(datas[76][200000:210000])"
   ]
  },
  {
   "cell_type": "code",
   "execution_count": 123,
   "metadata": {},
   "outputs": [
    {
     "name": "stdout",
     "output_type": "stream",
     "text": [
      "(257, 2997)\n",
      "976323.2 0.0 925.7873\n",
      "torch.Size([2997, 257])\n"
     ]
    },
    {
     "data": {
      "image/png": "[encoded data removed]",
      "text/plain": [
       "<Figure size 432x288 with 1 Axes>"
      ]
     },
     "metadata": {
      "needs_background": "light"
     },
     "output_type": "display_data"
    }
   ],
   "source": [
    "test = get_spectrogram_feature(datas[76])\n",
    "print(test.shape)"
   ]
  },
  {
   "cell_type": "code",
   "execution_count": 94,
   "metadata": {},
   "outputs": [
    {
     "data": {
      "text/plain": [
       "torch.Size([571, 257])"
      ]
     },
     "execution_count": 94,
     "metadata": {},
     "output_type": "execute_result"
    }
   ],
   "source": [
    "test.shape"
   ]
  },
  {
   "cell_type": "code",
   "execution_count": 97,
   "metadata": {},
   "outputs": [
    {
     "data": {
      "text/plain": [
       "(array([1.38404e+05, 3.77500e+03, 1.44500e+03, 7.64000e+02, 5.43000e+02,\n",
       "        3.92000e+02, 2.73000e+02, 2.11000e+02, 1.87000e+02, 1.20000e+02,\n",
       "        9.80000e+01, 9.10000e+01, 7.80000e+01, 4.70000e+01, 4.50000e+01,\n",
       "        4.30000e+01, 3.40000e+01, 3.00000e+01, 2.00000e+01, 1.70000e+01,\n",
       "        1.70000e+01, 1.70000e+01, 9.00000e+00, 1.00000e+01, 2.00000e+00,\n",
       "        1.00000e+01, 1.10000e+01, 2.00000e+00, 1.00000e+00, 0.00000e+00,\n",
       "        6.00000e+00, 3.00000e+00, 2.00000e+00, 3.00000e+00, 5.00000e+00,\n",
       "        2.00000e+00, 3.00000e+00, 3.00000e+00, 4.00000e+00, 1.00000e+00,\n",
       "        1.00000e+00, 2.00000e+00, 0.00000e+00, 1.00000e+00, 0.00000e+00,\n",
       "        0.00000e+00, 1.00000e+00, 0.00000e+00, 0.00000e+00, 0.00000e+00,\n",
       "        2.00000e+00, 1.00000e+00, 1.00000e+00, 0.00000e+00, 1.00000e+00,\n",
       "        2.00000e+00, 0.00000e+00, 1.00000e+00, 1.00000e+00, 0.00000e+00,\n",
       "        0.00000e+00, 0.00000e+00, 0.00000e+00, 0.00000e+00, 0.00000e+00,\n",
       "        0.00000e+00, 1.00000e+00, 0.00000e+00, 1.00000e+00, 0.00000e+00,\n",
       "        1.00000e+00, 0.00000e+00, 0.00000e+00, 0.00000e+00, 0.00000e+00,\n",
       "        0.00000e+00, 0.00000e+00, 0.00000e+00, 0.00000e+00, 0.00000e+00,\n",
       "        0.00000e+00, 0.00000e+00, 0.00000e+00, 0.00000e+00, 0.00000e+00,\n",
       "        0.00000e+00, 0.00000e+00, 0.00000e+00, 0.00000e+00, 0.00000e+00,\n",
       "        0.00000e+00, 0.00000e+00, 0.00000e+00, 0.00000e+00, 0.00000e+00,\n",
       "        0.00000e+00, 0.00000e+00, 0.00000e+00, 1.00000e+00, 1.00000e+00]),\n",
       " array([      0.   ,   14219.608,   28439.217,   42658.83 ,   56878.434,\n",
       "          71098.05 ,   85317.66 ,   99537.26 ,  113756.87 ,  127976.48 ,\n",
       "         142196.1  ,  156415.7  ,  170635.31 ,  184854.9  ,  199074.52 ,\n",
       "         213294.12 ,  227513.73 ,  241733.34 ,  255952.95 ,  270172.56 ,\n",
       "         284392.2  ,  298611.78 ,  312831.4  ,  327051.   ,  341270.62 ,\n",
       "         355490.22 ,  369709.8  ,  383929.44 ,  398149.03 ,  412368.66 ,\n",
       "         426588.25 ,  440807.88 ,  455027.47 ,  469247.1  ,  483466.7  ,\n",
       "         497686.3  ,  511905.9  ,  526125.5  ,  540345.1  ,  554564.75 ,\n",
       "         568784.4  ,  583003.94 ,  597223.56 ,  611443.2  ,  625662.8  ,\n",
       "         639882.4  ,  654102.   ,  668321.6  ,  682541.25 ,  696760.8  ,\n",
       "         710980.44 ,  725200.06 ,  739419.6  ,  753639.25 ,  767858.9  ,\n",
       "         782078.5  ,  796298.06 ,  810517.7  ,  824737.3  ,  838956.94 ,\n",
       "         853176.5  ,  867396.1  ,  881615.75 ,  895835.4  ,  910054.94 ,\n",
       "         924274.56 ,  938494.2  ,  952713.8  ,  966933.4  ,  981153.   ,\n",
       "         995372.6  , 1009592.25 , 1023811.8  , 1038031.44 , 1052251.   ,\n",
       "        1066470.6  , 1080690.2  , 1094909.9  , 1109129.5  , 1123349.1  ,\n",
       "        1137568.8  , 1151788.2  , 1166007.9  , 1180227.5  , 1194447.1  ,\n",
       "        1208666.8  , 1222886.4  , 1237106.   , 1251325.6  , 1265545.1  ,\n",
       "        1279764.8  , 1293984.4  , 1308204.   , 1322423.6  , 1336643.2  ,\n",
       "        1350862.9  , 1365082.5  , 1379302.   , 1393521.6  , 1407741.2  ,\n",
       "        1421960.9  ], dtype=float32),\n",
       " <a list of 100 Patch objects>)"
      ]
     },
     "execution_count": 97,
     "metadata": {},
     "output_type": "execute_result"
    },
    {
     "data": {
      "image/png": "[encoded data removed]",
      "text/plain": [
       "<Figure size 432x288 with 1 Axes>"
      ]
     },
     "metadata": {
      "needs_background": "light"
     },
     "output_type": "display_data"
    }
   ],
   "source": [
    "x = []\n",
    "for i in test:\n",
    "    for j in i:\n",
    "        x.append(j)\n",
    "plt.hist(x,bins=100)"
   ]
  },
  {
   "cell_type": "code",
   "execution_count": 96,
   "metadata": {},
   "outputs": [
    {
     "data": {
      "text/plain": [
       "1421960.9"
      ]
     },
     "execution_count": 96,
     "metadata": {},
     "output_type": "execute_result"
    }
   ],
   "source": [
    "np.max(x)"
   ]
  },
  {
   "cell_type": "code",
   "execution_count": 102,
   "metadata": {},
   "outputs": [
    {
     "data": {
      "text/plain": [
       "146747"
      ]
     },
     "execution_count": 102,
     "metadata": {},
     "output_type": "execute_result"
    }
   ],
   "source": [
    "len(x)"
   ]
  },
  {
   "cell_type": "code",
   "execution_count": 105,
   "metadata": {},
   "outputs": [
    {
     "data": {
      "text/plain": [
       "11041"
      ]
     },
     "execution_count": 105,
     "metadata": {},
     "output_type": "execute_result"
    }
   ],
   "source": [
    "x = np.array(x)\n",
    "len(x[x>10000])"
   ]
  },
  {
   "cell_type": "code",
   "execution_count": 89,
   "metadata": {},
   "outputs": [
    {
     "data": {
      "image/png": "[encoded data removed]",
      "text/plain": [
       "<Figure size 432x288 with 1 Axes>"
      ]
     },
     "metadata": {
      "needs_background": "light"
     },
     "output_type": "display_data"
    }
   ],
   "source": [
    "test = get_spectrogram_feature(datas[76])"
   ]
  },
  {
   "cell_type": "code",
   "execution_count": 90,
   "metadata": {},
   "outputs": [
    {
     "data": {
      "text/plain": [
       "torch.Size([2997, 257])"
      ]
     },
     "execution_count": 90,
     "metadata": {},
     "output_type": "execute_result"
    }
   ],
   "source": [
    "test.shape"
   ]
  },
  {
   "cell_type": "code",
   "execution_count": 91,
   "metadata": {},
   "outputs": [
    {
     "data": {
      "text/plain": [
       "976323.2"
      ]
     },
     "execution_count": 91,
     "metadata": {},
     "output_type": "execute_result"
    }
   ],
   "source": [
    "np.max(np.array(test))"
   ]
  }
 ],
 "metadata": {
  "kernelspec": {
   "display_name": "Python 3",
   "language": "python",
   "name": "python3"
  },
  "language_info": {
   "codemirror_mode": {
    "name": "ipython",
    "version": 3
   },
   "file_extension": ".py",
   "mimetype": "text/x-python",
   "name": "python",
   "nbconvert_exporter": "python",
   "pygments_lexer": "ipython3",
   "version": "3.6.9"
  }
 },
 "nbformat": 4,
 "nbformat_minor": 2
}
