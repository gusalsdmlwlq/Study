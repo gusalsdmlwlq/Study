{
 "cells": [
  {
   "cell_type": "code",
   "execution_count": 1,
   "metadata": {},
   "outputs": [],
   "source": [
    "from tqdm import tqdm\n",
    "import numpy as np\n",
    "import time\n",
    "import logging"
   ]
  },
  {
   "cell_type": "code",
   "execution_count": 2,
   "metadata": {},
   "outputs": [],
   "source": [
    "def batch():\n",
    "    arr = np.arange(10)\n",
    "    for i in arr:\n",
    "        yield i"
   ]
  },
  {
   "cell_type": "code",
   "execution_count": 3,
   "metadata": {},
   "outputs": [
    {
     "name": "stderr",
     "output_type": "stream",
     "text": [
      "iter start\n",
      "idx: 10, loss: 0.5147 : 100%|██████████| 10/10 [00:01<00:00,  9.83it/s]\n",
      "iter finish\n",
      "iter start\n",
      "idx: 10, loss: 0.5743 : 100%|██████████| 10/10 [00:01<00:00,  9.85it/s]\n",
      "iter finish\n",
      "iter start\n",
      "idx: 10, loss: 0.7550 : 100%|██████████| 10/10 [00:01<00:00,  9.82it/s]\n",
      "iter finish\n",
      "iter start\n",
      "idx: 10, loss: 0.4184 : 100%|██████████| 10/10 [00:01<00:00,  9.84it/s]\n",
      "iter finish\n",
      "iter start\n",
      "idx: 10, loss: 0.6156 : 100%|██████████| 10/10 [00:01<00:00,  9.83it/s]\n",
      "iter finish\n"
     ]
    }
   ],
   "source": [
    "logger = logging.getLogger()\n",
    "logger.setLevel(logging.INFO)\n",
    "stream_handler = logging.StreamHandler()\n",
    "logger.addHandler(stream_handler)\n",
    "\n",
    "for i in range(5):\n",
    "    iterator = batch()\n",
    "    logger.info(\"iter start\")\n",
    "    t =tqdm(iterator, total=10)\n",
    "    for i in t:\n",
    "        loss = np.random.random()\n",
    "        t.set_description(\"idx: {}, loss: {:.4f} \".format(i+1, loss))\n",
    "        time.sleep(0.1)\n",
    "    logger.info(\"iter finish\")"
   ]
  },
  {
   "cell_type": "code",
   "execution_count": null,
   "metadata": {},
   "outputs": [],
   "source": []
  }
 ],
 "metadata": {
  "kernelspec": {
   "display_name": "Python 3",
   "language": "python",
   "name": "python3"
  },
  "language_info": {
   "codemirror_mode": {
    "name": "ipython",
    "version": 3
   },
   "file_extension": ".py",
   "mimetype": "text/x-python",
   "name": "python",
   "nbconvert_exporter": "python",
   "pygments_lexer": "ipython3",
   "version": "3.6.10"
  }
 },
 "nbformat": 4,
 "nbformat_minor": 4
}
