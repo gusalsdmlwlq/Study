{
 "cells": [
  {
   "cell_type": "code",
   "execution_count": 2,
   "metadata": {},
   "outputs": [],
   "source": [
    "import torch"
   ]
  },
  {
   "cell_type": "code",
   "execution_count": 3,
   "metadata": {},
   "outputs": [
    {
     "data": {
      "text/plain": [
       "tensor([[0.3884, 0.7110, 0.1605, 0.0544, 0.1122],\n",
       "        [0.0359, 0.5584, 0.2509, 0.5216, 0.6192]])"
      ]
     },
     "execution_count": 3,
     "metadata": {},
     "output_type": "execute_result"
    }
   ],
   "source": [
    "x = torch.rand(2,5)\n",
    "x"
   ]
  },
  {
   "cell_type": "code",
   "execution_count": 4,
   "metadata": {},
   "outputs": [
    {
     "data": {
      "text/plain": [
       "tensor([[0.3884, 0.5584, 0.2509, 0.0544, 0.1122],\n",
       "        [0.0000, 0.7110, 0.0000, 0.5216, 0.0000],\n",
       "        [0.0359, 0.0000, 0.1605, 0.0000, 0.6192]])"
      ]
     },
     "execution_count": 4,
     "metadata": {},
     "output_type": "execute_result"
    }
   ],
   "source": [
    "torch.zeros(3,5).scatter(0,torch.tensor([[0, 1, 2, 0, 0], [2, 0, 0, 1, 2]]),x)"
   ]
  },
  {
   "cell_type": "code",
   "execution_count": 5,
   "metadata": {},
   "outputs": [
    {
     "data": {
      "text/plain": [
       "tensor([[0.9963, 0.2453, 0.9985],\n",
       "        [0.9758, 0.1066, 0.5751],\n",
       "        [0.4731, 0.9228, 0.4539]])"
      ]
     },
     "execution_count": 5,
     "metadata": {},
     "output_type": "execute_result"
    }
   ],
   "source": [
    "x = torch.rand(3,3)\n",
    "x"
   ]
  },
  {
   "cell_type": "code",
   "execution_count": 6,
   "metadata": {},
   "outputs": [
    {
     "data": {
      "text/plain": [
       "tensor([[0.9963, 0.0000, 0.0000, 0.2453, 0.0000, 0.0000, 0.9985, 0.0000, 0.0000],\n",
       "        [0.0000, 0.9758, 0.0000, 0.0000, 0.1066, 0.0000, 0.0000, 0.5751, 0.0000],\n",
       "        [0.0000, 0.0000, 0.4731, 0.0000, 0.0000, 0.9228, 0.0000, 0.0000, 0.4539]])"
      ]
     },
     "execution_count": 6,
     "metadata": {},
     "output_type": "execute_result"
    }
   ],
   "source": [
    "torch.zeros(3,9).scatter(1,torch.tensor([[0, 3, 6], [1, 4, 7], [2, 5, 8]]),x)"
   ]
  },
  {
   "cell_type": "code",
   "execution_count": 7,
   "metadata": {},
   "outputs": [
    {
     "data": {
      "text/plain": [
       "tensor([[1., 1., 1., 1., 1., 1., 1., 1., 1.],\n",
       "        [1., 1., 1., 1., 1., 1., 1., 1., 1.],\n",
       "        [1., 1., 1., 1., 1., 1., 1., 1., 1.]])"
      ]
     },
     "execution_count": 7,
     "metadata": {},
     "output_type": "execute_result"
    }
   ],
   "source": [
    "a = torch.ones((3,9))\n",
    "a"
   ]
  },
  {
   "cell_type": "code",
   "execution_count": 8,
   "metadata": {},
   "outputs": [
    {
     "data": {
      "text/plain": [
       "tensor([[0.9963, 1.0000, 1.0000, 0.2453, 1.0000, 1.0000, 0.9985, 1.0000, 1.0000],\n",
       "        [1.0000, 0.9758, 1.0000, 1.0000, 0.1066, 1.0000, 1.0000, 0.5751, 1.0000],\n",
       "        [1.0000, 1.0000, 0.4731, 1.0000, 1.0000, 0.9228, 1.0000, 1.0000, 0.4539]])"
      ]
     },
     "execution_count": 8,
     "metadata": {},
     "output_type": "execute_result"
    }
   ],
   "source": [
    "a.scatter(1,torch.tensor([[0, 3, 6], [1, 4, 7], [2, 5, 8]]),x)"
   ]
  },
  {
   "cell_type": "code",
   "execution_count": 9,
   "metadata": {},
   "outputs": [
    {
     "data": {
      "text/plain": [
       "tensor([[1.9963, 1.0000, 1.0000, 1.2453, 1.0000, 1.0000, 1.9985, 1.0000, 1.0000],\n",
       "        [1.0000, 1.9758, 1.0000, 1.0000, 1.1066, 1.0000, 1.0000, 1.5751, 1.0000],\n",
       "        [1.0000, 1.0000, 1.4731, 1.0000, 1.0000, 1.9228, 1.0000, 1.0000, 1.4539]])"
      ]
     },
     "execution_count": 9,
     "metadata": {},
     "output_type": "execute_result"
    }
   ],
   "source": [
    "a.scatter_add(1,torch.tensor([[0, 3, 6], [1, 4, 7], [2, 5, 8]]),x)"
   ]
  },
  {
   "cell_type": "markdown",
   "metadata": {},
   "source": [
    "# Mapping sequence to vocabulary space"
   ]
  },
  {
   "cell_type": "code",
   "execution_count": 15,
   "metadata": {},
   "outputs": [],
   "source": [
    "batch_size = 32\n",
    "vocab_size = 1000\n",
    "max_len = 50\n",
    "\n",
    "random_sequence_index = torch.randint(low=0, high=vocab_size, size=(batch_size, max_len))\n",
    "random_sequence_tensor = torch.rand((batch_size, max_len))\n",
    "random_sequence_tensor_score = torch.nn.functional.softmax(random_sequence_tensor, dim=-1)\n",
    "\n",
    "random_sequence_vocab = torch.zeros((batch_size, vocab_size)).scatter(1, random_sequence_index, random_sequence_tensor_score)"
   ]
  },
  {
   "cell_type": "code",
   "execution_count": 16,
   "metadata": {},
   "outputs": [
    {
     "data": {
      "text/plain": [
       "torch.Size([32, 50])"
      ]
     },
     "execution_count": 16,
     "metadata": {},
     "output_type": "execute_result"
    }
   ],
   "source": [
    "random_sequence_tensor_score.shape"
   ]
  },
  {
   "cell_type": "code",
   "execution_count": 17,
   "metadata": {},
   "outputs": [
    {
     "data": {
      "text/plain": [
       "torch.Size([32, 1000])"
      ]
     },
     "execution_count": 17,
     "metadata": {},
     "output_type": "execute_result"
    }
   ],
   "source": [
    "random_sequence_vocab.shape"
   ]
  },
  {
   "cell_type": "code",
   "execution_count": null,
   "metadata": {},
   "outputs": [],
   "source": []
  }
 ],
 "metadata": {
  "kernelspec": {
   "display_name": "Python 3",
   "language": "python",
   "name": "python3"
  },
  "language_info": {
   "codemirror_mode": {
    "name": "ipython",
    "version": 3
   },
   "file_extension": ".py",
   "mimetype": "text/x-python",
   "name": "python",
   "nbconvert_exporter": "python",
   "pygments_lexer": "ipython3",
   "version": "3.6.10"
  }
 },
 "nbformat": 4,
 "nbformat_minor": 4
}
