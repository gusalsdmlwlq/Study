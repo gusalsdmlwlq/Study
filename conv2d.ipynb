{
 "cells": [
  {
   "cell_type": "code",
   "execution_count": 1,
   "metadata": {},
   "outputs": [],
   "source": [
    "import tensorflow as tf\n"
   ]
  },
  {
   "cell_type": "code",
   "execution_count": 6,
   "metadata": {},
   "outputs": [],
   "source": [
    "arr = [[[[1.0],[1.0],[1.0],[1.0],[1.0],[1.0]],\n",
    "[[1.0],[1.0],[1.0],[1.0],[1.0],[1.0]],\n",
    "[[1.0],[1.0],[1.0],[1.0],[1.0],[1.0]],\n",
    "[[1.0],[1.0],[1.0],[1.0],[1.0],[1.0]],\n",
    "[[1.0],[1.0],[1.0],[1.0],[1.0],[1.0]],\n",
    "[[1.0],[1.0],[1.0],[1.0],[1.0],[1.0]]]]\n",
    "inputs = arr\n",
    "arr2 = [\n",
    "    [[[1.0]],[[1.0]],[[1.0]],[[1.0]],[[1.0]]],\n",
    "    [[[1.0]],[[1.0]],[[1.0]],[[1.0]],[[1.0]]],\n",
    "    [[[1.0]],[[1.0]],[[1.0]],[[1.0]],[[1.0]]],\n",
    "    [[[1.0]],[[1.0]],[[1.0]],[[1.0]],[[1.0]]],\n",
    "    [[[1.0]],[[1.0]],[[1.0]],[[1.0]],[[1.0]]]\n",
    "]\n",
    "arr3 = [\n",
    "    [[[1.0]],[[1.0]],[[1.0]]],\n",
    "    [[[1.0]],[[1.0]],[[1.0]]],\n",
    "    [[[1.0]],[[1.0]],[[1.0]]]\n",
    "]\n",
    "filters = arr2\n",
    "outputs = tf.nn.conv2d(inputs,filter=filters,strides=[1,1,1,1],padding=\"SAME\")"
   ]
  },
  {
   "cell_type": "code",
   "execution_count": 7,
   "metadata": {},
   "outputs": [
    {
     "name": "stdout",
     "output_type": "stream",
     "text": [
      "[[[[ 9.]\n",
      "   [12.]\n",
      "   [15.]\n",
      "   [15.]\n",
      "   [12.]\n",
      "   [ 9.]]\n",
      "\n",
      "  [[12.]\n",
      "   [16.]\n",
      "   [20.]\n",
      "   [20.]\n",
      "   [16.]\n",
      "   [12.]]\n",
      "\n",
      "  [[15.]\n",
      "   [20.]\n",
      "   [25.]\n",
      "   [25.]\n",
      "   [20.]\n",
      "   [15.]]\n",
      "\n",
      "  [[15.]\n",
      "   [20.]\n",
      "   [25.]\n",
      "   [25.]\n",
      "   [20.]\n",
      "   [15.]]\n",
      "\n",
      "  [[12.]\n",
      "   [16.]\n",
      "   [20.]\n",
      "   [20.]\n",
      "   [16.]\n",
      "   [12.]]\n",
      "\n",
      "  [[ 9.]\n",
      "   [12.]\n",
      "   [15.]\n",
      "   [15.]\n",
      "   [12.]\n",
      "   [ 9.]]]]\n",
      "(1, 6, 6, 1)\n"
     ]
    }
   ],
   "source": [
    "with tf.Session() as sess:\n",
    "    tf.global_variables_initializer().run()\n",
    "    print(outputs.eval())\n",
    "    print(outputs.shape)"
   ]
  },
  {
   "cell_type": "code",
   "execution_count": 8,
   "metadata": {},
   "outputs": [],
   "source": [
    "filters2 = arr3\n",
    "outputs2 = tf.nn.conv2d_transpose(inputs,filter=filters2,strides=[1,2,2,1],output_shape=[1,12,12,1],padding=\"SAME\")"
   ]
  },
  {
   "cell_type": "code",
   "execution_count": 9,
   "metadata": {},
   "outputs": [
    {
     "name": "stdout",
     "output_type": "stream",
     "text": [
      "(1, 12, 12, 1)\n"
     ]
    }
   ],
   "source": [
    "with tf.Session() as sess:\n",
    "    tf.global_variables_initializer().run()\n",
    "    res = outputs2.eval()\n",
    "    print(outputs2.shape)"
   ]
  },
  {
   "cell_type": "code",
   "execution_count": 10,
   "metadata": {},
   "outputs": [
    {
     "name": "stdout",
     "output_type": "stream",
     "text": [
      "[1.] [1.] [2.] [1.] [2.] [1.] [2.] [1.] [2.] [1.] [2.] [1.] \n",
      "[1.] [1.] [2.] [1.] [2.] [1.] [2.] [1.] [2.] [1.] [2.] [1.] \n",
      "[2.] [2.] [4.] [2.] [4.] [2.] [4.] [2.] [4.] [2.] [4.] [2.] \n",
      "[1.] [1.] [2.] [1.] [2.] [1.] [2.] [1.] [2.] [1.] [2.] [1.] \n",
      "[2.] [2.] [4.] [2.] [4.] [2.] [4.] [2.] [4.] [2.] [4.] [2.] \n",
      "[1.] [1.] [2.] [1.] [2.] [1.] [2.] [1.] [2.] [1.] [2.] [1.] \n",
      "[2.] [2.] [4.] [2.] [4.] [2.] [4.] [2.] [4.] [2.] [4.] [2.] \n",
      "[1.] [1.] [2.] [1.] [2.] [1.] [2.] [1.] [2.] [1.] [2.] [1.] \n",
      "[2.] [2.] [4.] [2.] [4.] [2.] [4.] [2.] [4.] [2.] [4.] [2.] \n",
      "[1.] [1.] [2.] [1.] [2.] [1.] [2.] [1.] [2.] [1.] [2.] [1.] \n",
      "[2.] [2.] [4.] [2.] [4.] [2.] [4.] [2.] [4.] [2.] [4.] [2.] \n",
      "[1.] [1.] [2.] [1.] [2.] [1.] [2.] [1.] [2.] [1.] [2.] [1.] \n"
     ]
    }
   ],
   "source": [
    "for i in res[0]:\n",
    "    for j in i:\n",
    "        print(j, end=\" \")\n",
    "    print()\n"
   ]
  },
  {
   "cell_type": "code",
   "execution_count": 13,
   "metadata": {},
   "outputs": [],
   "source": [
    "inputs = tf.Variable(tf.random_normal(shape=[1,224,224,3]))\n",
    "filters = tf.random_normal(shape=[4,4,3,32])\n",
    "outputs = tf.nn.conv2d(input=inputs, filter=filters, strides=[1,2,2,1], padding=\"SAME\")"
   ]
  },
  {
   "cell_type": "code",
   "execution_count": 14,
   "metadata": {},
   "outputs": [
    {
     "name": "stdout",
     "output_type": "stream",
     "text": [
      "(1, 112, 112, 32)\n"
     ]
    }
   ],
   "source": [
    "with tf.Session() as sess:\n",
    "    tf.global_variables_initializer().run()\n",
    "    print(outputs.shape)"
   ]
  },
  {
   "cell_type": "code",
   "execution_count": null,
   "metadata": {},
   "outputs": [],
   "source": []
  }
 ],
 "metadata": {
  "kernelspec": {
   "display_name": "Python 3",
   "language": "python",
   "name": "python3"
  },
  "language_info": {
   "codemirror_mode": {
    "name": "ipython",
    "version": 3
   },
   "file_extension": ".py",
   "mimetype": "text/x-python",
   "name": "python",
   "nbconvert_exporter": "python",
   "pygments_lexer": "ipython3",
   "version": "3.6.7"
  }
 },
 "nbformat": 4,
 "nbformat_minor": 2
}
