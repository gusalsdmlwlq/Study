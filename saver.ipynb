{
 "cells": [
  {
   "cell_type": "code",
   "execution_count": 1,
   "metadata": {},
   "outputs": [],
   "source": [
    "import tensorflow as tf"
   ]
  },
  {
   "cell_type": "code",
   "execution_count": 2,
   "metadata": {},
   "outputs": [
    {
     "name": "stdout",
     "output_type": "stream",
     "text": [
      "[-0.41386846 -0.41979307 -1.1623191 ]\n",
      "[-0.76006144 -1.5420774  -0.11554498]\n",
      "[-1.1739299 -1.9618704 -1.2778641]\n"
     ]
    }
   ],
   "source": [
    "x = tf.Variable(tf.random_normal([3]),name=\"x\")\n",
    "y = tf.Variable(tf.random_normal([3]),name=\"y\")\n",
    "z = tf.add(x,y,name=\"output\")\n",
    "saver = tf.train.Saver()\n",
    "with tf.Session() as sess:\n",
    "    tf.global_variables_initializer().run()\n",
    "    saver.save(sess,\"saved/test1.ckpt\")\n",
    "    print(x.eval())\n",
    "    print(y.eval())\n",
    "    print(z.eval())"
   ]
  },
  {
   "cell_type": "code",
   "execution_count": 7,
   "metadata": {},
   "outputs": [
    {
     "name": "stdout",
     "output_type": "stream",
     "text": [
      "INFO:tensorflow:Restoring parameters from saved/test1.ckpt\n",
      "[-0.41386846 -0.41979307 -1.1623191 ]\n",
      "[-0.76006144 -1.5420774  -0.11554498]\n",
      "[-1.1739299 -1.9618704 -1.2778641]\n"
     ]
    }
   ],
   "source": [
    "with tf.Session() as sess:\n",
    "    saver = tf.train.import_meta_graph(\"saved/test1.ckpt.meta\")\n",
    "    saver.restore(sess,\"saved/test1.ckpt\")\n",
    "    graph = tf.get_default_graph()\n",
    "    out = graph.get_tensor_by_name(\"output:0\")\n",
    "    print(graph.get_tensor_by_name(\"x:0\").eval())\n",
    "    print(graph.get_tensor_by_name(\"y:0\").eval())\n",
    "    print(out.eval())"
   ]
  },
  {
   "cell_type": "code",
   "execution_count": 17,
   "metadata": {},
   "outputs": [
    {
     "name": "stdout",
     "output_type": "stream",
     "text": [
      "INFO:tensorflow:Restoring parameters from saved/test1.ckpt\n",
      "[-0.1739299  -0.9618705  -0.27786404]\n"
     ]
    }
   ],
   "source": [
    "with tf.Session() as sess:\n",
    "    saver = tf.train.import_meta_graph(\"saved/test1.ckpt.meta\")\n",
    "    saver.restore(sess,\"saved/test1.ckpt\")\n",
    "    graph = tf.get_default_graph()\n",
    "    w = tf.constant(1.0)\n",
    "    out = graph.get_tensor_by_name(\"output:0\")\n",
    "    newout = out+w\n",
    "    print(newout.eval())"
   ]
  },
  {
   "cell_type": "code",
   "execution_count": 24,
   "metadata": {},
   "outputs": [
    {
     "name": "stdout",
     "output_type": "stream",
     "text": [
      "INFO:tensorflow:Restoring parameters from saved/test1.ckpt\n",
      "[2. 2. 2.]\n"
     ]
    }
   ],
   "source": [
    "with tf.Session() as sess:\n",
    "    saver = tf.train.import_meta_graph(\"saved/test1.ckpt.meta\")\n",
    "    saver.restore(sess,\"saved/test1.ckpt\")\n",
    "    graph = tf.get_default_graph()\n",
    "    x1 = graph.get_tensor_by_name(\"x:0\")\n",
    "    tf.assign(x1,[1.0,1.0,1.0]).eval()\n",
    "    y1 = graph.get_tensor_by_name(\"y:0\")\n",
    "    tf.assign(y1,[1.0,1.0,1.0]).eval()\n",
    "    out = graph.get_tensor_by_name(\"output:0\")\n",
    "    print(out.eval())"
   ]
  },
  {
   "cell_type": "code",
   "execution_count": 16,
   "metadata": {},
   "outputs": [
    {
     "name": "stdout",
     "output_type": "stream",
     "text": [
      "INFO:tensorflow:Restoring parameters from saved/test1.ckpt\n",
      "Tensor(\"x:0\", shape=(3,), dtype=float32_ref)\n",
      "INFO:tensorflow:Froze 2 variables.\n",
      "INFO:tensorflow:Converted 2 variables to const ops.\n",
      "b'\\n:\\n\\x01x\\x12\\x05Const*!\\n\\x05value\\x12\\x18B\\x16\\x08\\x01\\x12\\x04\\x12\\x02\\x08\\x03\"\\x0c\\x91\\xe6\\xd3\\xbe\\x1e\\xef\\xd6\\xbe\\xdf\\xc6\\x94\\xbf*\\x0b\\n\\x05dtype\\x12\\x020\\x01\\n4\\n\\x06x/read\\x12\\x08Identity\\x1a\\x01x*\\x07\\n\\x01T\\x12\\x020\\x01*\\x14\\n\\x06_class\\x12\\n\\n\\x08\\x12\\x06loc:@x\\n:\\n\\x01y\\x12\\x05Const*!\\n\\x05value\\x12\\x18B\\x16\\x08\\x01\\x12\\x04\\x12\\x02\\x08\\x03\"\\x0cc\\x93B\\xbf\\xcbb\\xc5\\xbf\\xd9\\xa2\\xec\\xbd*\\x0b\\n\\x05dtype\\x12\\x020\\x01\\n4\\n\\x06y/read\\x12\\x08Identity\\x1a\\x01y*\\x07\\n\\x01T\\x12\\x020\\x01*\\x14\\n\\x06_class\\x12\\n\\n\\x08\\x12\\x06loc:@y\\n&\\n\\x06output\\x12\\x03Add\\x1a\\x06x/read\\x1a\\x06y/read*\\x07\\n\\x01T\\x12\\x020\\x01\\x12\\x00'\n"
     ]
    }
   ],
   "source": [
    "from tensorflow.python.framework import graph_util\n",
    "with tf.Session() as sess:\n",
    "    saver = tf.train.import_meta_graph(\"saved/test1.ckpt.meta\")\n",
    "    saver.restore(sess,\"saved/test1.ckpt\")\n",
    "    graph = tf.get_default_graph()\n",
    "    print(graph.get_tensor_by_name(\"x:0\"))\n",
    "    graph_def = graph.as_graph_def()\n",
    "#     print(graph_def)\n",
    "    output_node_names = [\"output\"]\n",
    "    output_graph_def = graph_util.convert_variables_to_constants(sess=sess,input_graph_def=graph_def,output_node_names=output_node_names)\n",
    "#     print(output_graph_def)\n",
    "#     print(output_graph_def.SerializeToString())"
   ]
  },
  {
   "cell_type": "code",
   "execution_count": 4,
   "metadata": {},
   "outputs": [
    {
     "name": "stdout",
     "output_type": "stream",
     "text": [
      "Tensor(\"x:0\", shape=(3,), dtype=float32_ref)\n"
     ]
    }
   ],
   "source": [
    "with tf.Session() as sess:\n",
    "    saver = tf.train.import_meta_graph(\"saved/test1.ckpt.meta\")\n",
    "    graph = tf.get_default_graph()\n",
    "    print(graph.get_tensor_by_name(\"x:0\"))"
   ]
  },
  {
   "cell_type": "code",
   "execution_count": null,
   "metadata": {},
   "outputs": [],
   "source": []
  }
 ],
 "metadata": {
  "kernelspec": {
   "display_name": "Python 3",
   "language": "python",
   "name": "python3"
  },
  "language_info": {
   "codemirror_mode": {
    "name": "ipython",
    "version": 3
   },
   "file_extension": ".py",
   "mimetype": "text/x-python",
   "name": "python",
   "nbconvert_exporter": "python",
   "pygments_lexer": "ipython3",
   "version": "3.6.7"
  }
 },
 "nbformat": 4,
 "nbformat_minor": 2
}
