{
 "cells": [
  {
   "cell_type": "code",
   "execution_count": 1,
   "metadata": {},
   "outputs": [],
   "source": [
    "import tensorflow as tf\n",
    "import numpy as np"
   ]
  },
  {
   "cell_type": "code",
   "execution_count": 17,
   "metadata": {},
   "outputs": [
    {
     "name": "stdout",
     "output_type": "stream",
     "text": [
      "(5, 10)\n"
     ]
    }
   ],
   "source": [
    "params = {\n",
    "    \"conv1_w\": tf.Variable(tf.random_normal(shape=[3,3,3,16])),\n",
    "    \"conv1_b\": tf.Variable(tf.constant(0.1, shape=[16])),\n",
    "    \"conv2_w\": tf.Variable(tf.random_normal(shape=[3,3,16,32])),\n",
    "    \"conv2_b\": tf.Variable(tf.constant(0.1, shape=[32]))\n",
    "}\n",
    "def conv(x,name):\n",
    "    out = tf.nn.conv2d(x,params[name+\"_w\"],strides=[1,1,1,1],padding=\"SAME\")+params[name+\"_b\"]\n",
    "    out = tf.contrib.layers.batch_norm(out, center=True, is_training=True)\n",
    "    out = tf.nn.relu(out)\n",
    "    return out\n",
    "\n",
    "x = tf.Variable(tf.random_normal(shape=[5,32,32,3]))\n",
    "conv1 = conv(x,\"conv1\")\n",
    "conv2 = conv(conv1,\"conv2\")\n",
    "\n",
    "dim = 1\n",
    "for i in conv2.shape.as_list()[1:]: dim*=i\n",
    "fc_w = tf.Variable(tf.random_normal(shape=[dim,10]))\n",
    "fc_b = tf.Variable(tf.constant(0.1,shape=[10]))\n",
    "\n",
    "output = tf.add(tf.matmul(tf.reshape(conv2,shape=[5,-1]),fc_w),fc_b)\n",
    "\n",
    "with tf.Session() as sess:\n",
    "    tf.global_variables_initializer().run()\n",
    "    print(output.shape)"
   ]
  },
  {
   "cell_type": "code",
   "execution_count": 14,
   "metadata": {},
   "outputs": [],
   "source": []
  },
  {
   "cell_type": "code",
   "execution_count": null,
   "metadata": {},
   "outputs": [],
   "source": []
  }
 ],
 "metadata": {
  "kernelspec": {
   "display_name": "Python 3",
   "language": "python",
   "name": "python3"
  },
  "language_info": {
   "codemirror_mode": {
    "name": "ipython",
    "version": 3
   },
   "file_extension": ".py",
   "mimetype": "text/x-python",
   "name": "python",
   "nbconvert_exporter": "python",
   "pygments_lexer": "ipython3",
   "version": "3.6.7"
  }
 },
 "nbformat": 4,
 "nbformat_minor": 2
}
