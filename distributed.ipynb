{
 "cells": [
  {
   "cell_type": "code",
   "execution_count": null,
   "metadata": {},
   "outputs": [],
   "source": [
    "import torch\n",
    "import numpy as np\n",
    "import argparse\n",
    "import os"
   ]
  },
  {
   "cell_type": "code",
   "execution_count": null,
   "metadata": {},
   "outputs": [],
   "source": [
    "def make_dataset():\n",
    "    dataset = []\n",
    "    for i in range(16):\n",
    "        x = np.random.rand(3)\n",
    "        y = np.random.randint(low=0, high=3)\n",
    "        dataset.append((x,y))\n",
    "    return dataset\n",
    "\n",
    "def custom_collate(batch):\n",
    "    batch_size = len(batch)\n",
    "    inputs = []\n",
    "    labels = []\n",
    "    for b in batch:\n",
    "        x, y = b\n",
    "        inputs.append(x)\n",
    "        labels.append(y)\n",
    "    return torch.tensor(inputs, dtype=torch.float32), torch.tensor(labels, dtype=torch.int64)\n",
    "\n",
    "parser = argparse.ArgumentParser()\n",
    "parser.add_argument(\"--local_rank\", default=0, type=int)\n",
    "args = parser.parse_args()\n",
    "args.distributed = False\n",
    "if 'WORLD_SIZE' in os.environ:\n",
    "    args.distributed = int(os.environ['WORLD_SIZE']) > 1\n",
    "if args.distributed:\n",
    "    torch.cuda.set_device(args.local_rank)\n",
    "    torch.distributed.init_process_group(backend='nccl', init_method='env://')\n",
    "torch.backends.cudnn.benchmark = True\n",
    "\n",
    "dataset = make_dataset()\n",
    "sampler = torch.utils.data.distributed.DistributedSampler(dataset)\n",
    "loader = torch.utils.data.DataLoader(dataset, batch_size =4, sampler=sampler, collate_fn=custom_collate)\n",
    "\n",
    "model = torch.nn.Linear(3,3).cuda()\n",
    "optim = torch.optim.Adam(model.parameters(), lr=1e-4)\n",
    "model = torch.nn.parallel.DistributedDataParallel(model, device_ids=[args.local_rank], output_device=args.local_rank)\n",
    "\n",
    "for batch in loader:\n",
    "    inputs, labels = batch\n",
    "    outputs = model(inputs.cuda())\n",
    "    loss = torch.nn.functional.cross_entropy(outputs, labels.cuda())\n",
    "    print(\"GPU: {}, output: {}, loss: {}\".format(args.local_rank, outputs, loss))"
   ]
  }
 ],
 "metadata": {
  "kernelspec": {
   "display_name": "Python 3",
   "language": "python",
   "name": "python3"
  },
  "language_info": {
   "codemirror_mode": {
    "name": "ipython",
    "version": 3
   },
   "file_extension": ".py",
   "mimetype": "text/x-python",
   "name": "python",
   "nbconvert_exporter": "python",
   "pygments_lexer": "ipython3",
   "version": "3.6.10"
  }
 },
 "nbformat": 4,
 "nbformat_minor": 4
}
