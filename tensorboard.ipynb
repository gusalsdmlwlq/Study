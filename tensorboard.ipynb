{
 "cells": [
  {
   "cell_type": "code",
   "execution_count": 1,
   "metadata": {},
   "outputs": [],
   "source": [
    "import tensorflow as tf\n",
    "import numpy as np\n",
    "\n",
    "a = tf.placeholder(dtype=tf.float32, name=\"input\")\n",
    "b = tf.multiply(a,a,name=\"square\")\n",
    "square = tf.summary.scalar(name=\"a_square\",tensor=b)\n",
    "inputs = np.random.normal(size=[10000])\n",
    "with tf.Session() as sess:\n",
    "    writer = tf.summary.FileWriter(\"./logdir/\",sess.graph)\n",
    "    tf.global_variables_initializer().run()\n",
    "    for i in range(len(inputs)):\n",
    "        summary = square.eval(feed_dict={a:inputs[i]})\n",
    "        writer.add_summary(summary,i)"
   ]
  },
  {
   "cell_type": "code",
   "execution_count": null,
   "metadata": {},
   "outputs": [],
   "source": []
  }
 ],
 "metadata": {
  "kernelspec": {
   "display_name": "Python 3",
   "language": "python",
   "name": "python3"
  },
  "language_info": {
   "codemirror_mode": {
    "name": "ipython",
    "version": 3
   },
   "file_extension": ".py",
   "mimetype": "text/x-python",
   "name": "python",
   "nbconvert_exporter": "python",
   "pygments_lexer": "ipython3",
   "version": "3.6.7"
  }
 },
 "nbformat": 4,
 "nbformat_minor": 2
}
